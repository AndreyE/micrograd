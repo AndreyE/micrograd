{
 "cells": [
  {
   "cell_type": "markdown",
   "metadata": {},
   "source": [
    "###  MicroGrad demo"
   ]
  },
  {
   "cell_type": "code",
   "execution_count": 612,
   "metadata": {},
   "outputs": [],
   "source": [
    "import random\n",
    "import numpy as np\n",
    "import matplotlib.pyplot as plt\n",
    "import tensorflow as tf\n",
    "\n",
    "from micrograd.engine import Value\n",
    "from micrograd.nn import Neuron, Layer, MLP\n",
    "\n",
    "%matplotlib inline"
   ]
  },
  {
   "cell_type": "code",
   "execution_count": 613,
   "metadata": {},
   "outputs": [],
   "source": [
    "np.random.seed(1337)\n",
    "random.seed(1337)"
   ]
  },
  {
   "cell_type": "code",
   "execution_count": 614,
   "metadata": {},
   "outputs": [],
   "source": [
    "from graphviz import Digraph\n",
    "\n",
    "def trace(root):\n",
    "    nodes, edges = set(), set()\n",
    "    def build(v):\n",
    "        if v not in nodes:\n",
    "            nodes.add(v)\n",
    "            for child in v._prev:\n",
    "                edges.add((child, v))\n",
    "                build(child)\n",
    "    build(root)\n",
    "    return nodes, edges\n",
    "\n",
    "def draw_dot(root, format='svg', rankdir='LR'):\n",
    "    \"\"\"\n",
    "    format: png | svg | ...\n",
    "    rankdir: TB (top to bottom graph) | LR (left to right)\n",
    "    \"\"\"\n",
    "    assert rankdir in ['LR', 'TB']\n",
    "    nodes, edges = trace(root)\n",
    "    dot = Digraph(format=format, graph_attr={'rankdir': rankdir}) #, node_attr={'rankdir': 'TB'})\n",
    "\n",
    "    for n in nodes:\n",
    "        dot.node(name=str(id(n)), label = \"{ %s | data %.4f | grad %.4f }\" % (n._name, n.data, n.grad), shape='record')\n",
    "        if n._op:\n",
    "            dot.node(name=str(id(n)) + n._op, label=n._op)\n",
    "            dot.edge(str(id(n)) + n._op, str(id(n)))\n",
    "\n",
    "    for n1, n2 in edges:\n",
    "        dot.edge(str(id(n1)), str(id(n2)) + n2._op)\n",
    "\n",
    "    return dot"
   ]
  },
  {
   "cell_type": "code",
   "execution_count": 615,
   "metadata": {},
   "outputs": [],
   "source": [
    "# Загрузка данных MNIST\n",
    "(X_train, Y_train), (X_test, Y_test) = tf.keras.datasets.mnist.load_data()\n",
    "\n",
    "# Преобразование данных в формат float32\n",
    "X_train = X_train.astype('float64') / 255.0 * 2 - 1\n",
    "X_test = X_test.astype('float64') / 255.0 * 2 - 1\n",
    "\n",
    "# Изменение формы данных\n",
    "X_train = X_train.reshape(X_train.shape[0], 784)\n",
    "X_test = X_test.reshape(X_test.shape[0], 784)\n",
    "\n",
    "# One-hot кодирование меток\n",
    "# y_train_oh = tf.keras.utils.to_categorical(y_train, num_classes=10)\n",
    "# y_test_oh = tf.keras.utils.to_categorical(y_test, num_classes=10)\n",
    "\n",
    "# y_train_oh"
   ]
  },
  {
   "cell_type": "code",
   "execution_count": 616,
   "metadata": {},
   "outputs": [
    {
     "data": {
      "image/png": "[encoded data removed]",
      "text/plain": [
       "<Figure size 640x480 with 1 Axes>"
      ]
     },
     "metadata": {},
     "output_type": "display_data"
    }
   ],
   "source": [
    "def draw_some(numbers):\n",
    "    number = numbers[random.randint(0, numbers.shape[0] - 1)]\n",
    "    plt.imshow(number.reshape([28, 28]))\n",
    "\n",
    "draw_some(X_train)"
   ]
  },
  {
   "cell_type": "code",
   "execution_count": 617,
   "metadata": {},
   "outputs": [],
   "source": [
    "from collections import defaultdict\n",
    "\n",
    "POSITIVE_CLASSES = [0, 1, 2, 3, 4, 5, 6, 7, 8, 9]\n",
    "\n",
    "def oh_encode(y, classes):\n",
    "    NEG = -1.0\n",
    "    POS = 1.0\n",
    "\n",
    "    noise = np.array([NEG] * len(classes))\n",
    "\n",
    "    oh_enc = defaultdict(lambda: noise)\n",
    "    oh_dec = defaultdict(lambda: None)\n",
    "\n",
    "    for i, cls in enumerate(classes):\n",
    "        cls_vec = np.array([NEG] * len(classes))\n",
    "        cls_vec[i] = POS\n",
    "        oh_enc[cls] = cls_vec\n",
    "        oh_dec[tuple(cls_vec)] = cls\n",
    "\n",
    "    def oh_decode(values):\n",
    "        # pick the closest vector (is round() OK for that?)\n",
    "        encoded = tuple(np.array([v.data for v in values]).round())\n",
    "        return oh_dec[encoded]\n",
    "\n",
    "    return oh_decode, np.array([oh_enc[cls] for cls in y])"
   ]
  },
  {
   "cell_type": "code",
   "execution_count": 618,
   "metadata": {},
   "outputs": [],
   "source": [
    "def get_batch(X, Y_oh, batch_size):\n",
    "    ri = np.random.permutation(X.shape[0])[:batch_size]\n",
    "    X, Y_oh = X[ri], Y_oh[ri]\n",
    "    return X, Y_oh\n",
    "\n",
    "\n",
    "def arr2vals(array, name):\n",
    "    return [[Value(el, _name=name) for el in row] for row in array]\n",
    "\n",
    "\n",
    "def batch2vals(batch):\n",
    "    return tuple(map(arr2vals, batch))"
   ]
  },
  {
   "cell_type": "code",
   "execution_count": 619,
   "metadata": {},
   "outputs": [],
   "source": [
    "def accuracy(scores, ground_truths):\n",
    "    matches = 0\n",
    "    for score, ground_truths in zip(scores, ground_truths):\n",
    "        matches += OH_DECODER(score) == OH_DECODER(ground_truths)\n",
    "\n",
    "    return matches / len(scores)\n",
    "\n",
    "\n",
    "def one_loss(score, ground_truth):\n",
    "    return sum((s - gt)**2 for s, gt in zip(score, ground_truth))\n",
    "\n",
    "\n",
    "def loss(scores, Y_oh):\n",
    "    return sum(one_loss(xs, ys) for xs, ys in zip(scores, Y_oh))\n",
    "\n",
    "\n",
    "def feed_forward(model, X):\n",
    "    return list(map(model, X))\n",
    "\n",
    "\n",
    "def evaluate(model, X_b, Y_b):\n",
    "    input = arr2vals(X_b, 'input')\n",
    "    scores = feed_forward(model, input)\n",
    "    expected = arr2vals(Y_b, 'expected')\n",
    "    return loss(scores, expected), accuracy(scores, expected)"
   ]
  },
  {
   "cell_type": "code",
   "execution_count": 620,
   "metadata": {},
   "outputs": [
    {
     "name": "stdout",
     "output_type": "stream",
     "text": [
      "MLP of [Layer of [xspace-Neuron(784), xspace-Neuron(784), xspace-Neuron(784), xspace-Neuron(784), xspace-Neuron(784), xspace-Neuron(784), xspace-Neuron(784), xspace-Neuron(784), xspace-Neuron(784), xspace-Neuron(784)], Layer of [xspace-Neuron(10), xspace-Neuron(10), xspace-Neuron(10), xspace-Neuron(10), xspace-Neuron(10), xspace-Neuron(10), xspace-Neuron(10), xspace-Neuron(10), xspace-Neuron(10), xspace-Neuron(10)]]\n",
      "number of parameters 7960\n"
     ]
    }
   ],
   "source": [
    "# initialize a model\n",
    "model = MLP(\n",
    "    784,\n",
    "    [\n",
    "        (10, 'xspace'),\n",
    "        (10, 'xspace')\n",
    "    ],\n",
    "    lr=1.0\n",
    ")\n",
    "print(model)\n",
    "print(\"number of parameters\", len(model.parameters()))"
   ]
  },
  {
   "cell_type": "code",
   "execution_count": 635,
   "metadata": {},
   "outputs": [],
   "source": [
    "from copy import deepcopy\n",
    "\n",
    "def frozen_neurons():\n",
    "    return [\n",
    "        deepcopy(neuron)\n",
    "        for neuron in (\n",
    "            NEURON_0,\n",
    "            NEURON_1,\n",
    "            NEURON_2,\n",
    "            NEURON_3,\n",
    "            NEURON_4,\n",
    "            NEURON_5,\n",
    "            NEURON_6,\n",
    "            NEURON_7,\n",
    "            NEURON_8,\n",
    "            NEURON_9\n",
    "        )\n",
    "    ]\n",
    "\n",
    "def freeze_layer_0(model):\n",
    "    model.layers[0].neurons = frozen_neurons()\n",
    "    for p in model.layers[0].parameters():\n",
    "        p._lr = 0.0\n",
    "\n",
    "def norm_layers(model):\n",
    "    for layer in model.layers:\n",
    "        for neuron in layer.neurons:\n",
    "            norm = sum(abs(p.data) for p in neuron.parameters())\n",
    "            for p in neuron.parameters():\n",
    "                p.data /= norm"
   ]
  },
  {
   "cell_type": "code",
   "execution_count": 622,
   "metadata": {},
   "outputs": [
    {
     "data": {
      "text/plain": [
       "(60000, 10)"
      ]
     },
     "execution_count": 622,
     "metadata": {},
     "output_type": "execute_result"
    }
   ],
   "source": [
    "# select positives\n",
    "SELECT_CLASSES = [9]\n",
    "\n",
    "def select(X, Y, selector):\n",
    "    idx = np.where(np.isin(Y, selector))[0]\n",
    "    return X[idx], Y[idx]\n",
    "\n",
    "# X_train, Y_train = select(X_train, Y_train, SELECT_CLASSES)\n",
    "\n",
    "OH_DECODER, Y_oh = oh_encode(Y_train, POSITIVE_CLASSES)\n",
    "_, Y_t_oh = oh_encode(Y_test, POSITIVE_CLASSES)\n",
    "\n",
    "Y_oh.shape"
   ]
  },
  {
   "cell_type": "code",
   "execution_count": 638,
   "metadata": {},
   "outputs": [
    {
     "name": "stdout",
     "output_type": "stream",
     "text": [
      "start: loss 32.0, accuracy 0.0%\n"
     ]
    },
    {
     "data": {
      "text/plain": [
       "(Value(auto : [32.0, 0.0]), 0.0, [5])"
      ]
     },
     "execution_count": 638,
     "metadata": {},
     "output_type": "execute_result"
    },
    {
     "data": {
      "image/png": "[encoded data removed]",
      "text/plain": [
       "<Figure size 640x480 with 1 Axes>"
      ]
     },
     "metadata": {},
     "output_type": "display_data"
    }
   ],
   "source": [
    "# sample batch\n",
    "BATCH_SIZE = 1\n",
    "X_b, Y_b = get_batch(X_train, Y_oh, BATCH_SIZE)\n",
    "X_b.shape\n",
    "\n",
    "freeze_layer_0(model); norm_layers(model);  # todo: remove me\n",
    "\n",
    "total_loss, acc = evaluate(model, X_b, Y_b)\n",
    "print(f\"start: loss {total_loss.data}, accuracy {acc*100}%\")\n",
    "\n",
    "draw_some(X_b)\n",
    "total_loss, acc, [OH_DECODER(vs) for vs in arr2vals(Y_b, 'expected')][:20]"
   ]
  },
  {
   "cell_type": "code",
   "execution_count": 624,
   "metadata": {},
   "outputs": [
    {
     "name": "stdout",
     "output_type": "stream",
     "text": [
      "step 0: loss 8.0, accuracy 0.0%\n",
      "step 1: loss 8.0, accuracy 0.0%\n",
      "step 2: loss 1.232595164407831e-32, accuracy 100.0%\n",
      "step 3: loss 1.232595164407831e-32, accuracy 100.0%\n",
      "step 4: loss 2.465190328815662e-32, accuracy 100.0%\n"
     ]
    }
   ],
   "source": [
    "# train the model\n",
    "ITERATIONS = 5\n",
    "\n",
    "# total_loss, acc = evaluate(model, X_b, Y_b)\n",
    "# print(f\"start: loss {total_loss.data}, accuracy {acc*100}%\")\n",
    "\n",
    "# optimization loop\n",
    "for k in range(ITERATIONS):\n",
    "    if total_loss.data == 0:\n",
    "        print(f\"step {k}: loss {total_loss.data}, accuracy {acc*100}%\")\n",
    "        print(\"Early stop!\")\n",
    "        break\n",
    "\n",
    "    model.learn_from(total_loss)\n",
    "    norm_layers(model)\n",
    "\n",
    "    total_loss, acc = evaluate(model, X_b, Y_b)\n",
    "    print(f\"step {k}: loss {total_loss.data}, accuracy {acc*100}%\")\n",
    "\n",
    "# total_loss, acc = evaluate(model, X_b, Y_b)\n",
    "# print(f\"final loss {total_loss.data}, total accuracy {acc*100}%\")"
   ]
  },
  {
   "cell_type": "markdown",
   "metadata": {},
   "source": [
    "# DEBUG"
   ]
  },
  {
   "cell_type": "code",
   "execution_count": 650,
   "metadata": {},
   "outputs": [
    {
     "data": {
      "text/plain": [
       "array([[ 0.00165801,  0.00165801,  0.00165802, ...,  0.00165982,\n",
       "         0.00165982, -0.00165801],\n",
       "       [ 0.00142843,  0.00142301,  0.00141952, ...,  0.0014286 ,\n",
       "         0.00141208, -0.00141792],\n",
       "       [ 0.00170784,  0.00170289,  0.0016997 , ...,  0.001708  ,\n",
       "         0.00169289, -0.00169823],\n",
       "       ...,\n",
       "       [ 0.00156875,  0.00155558,  0.0015471 , ...,  0.00156916,\n",
       "         0.00152902, -0.00154322],\n",
       "       [ 0.00175211,  0.00170941,  0.00168191, ...,  0.00175344,\n",
       "         0.00162328, -0.00166933],\n",
       "       [-0.00130701, -0.0013611 , -0.00139594, ..., -0.00130532,\n",
       "        -0.00147021,  0.00141188]])"
      ]
     },
     "execution_count": 650,
     "metadata": {},
     "output_type": "execute_result"
    }
   ],
   "source": [
    "import numpy as np\n",
    "\n",
    "frozen_parameters = np.array([[p.data for p in n.parameters()] for n in model.layers[0].neurons])\n",
    "# np.save('mnist_parameters_10x785_positives.npy', frozen_parameters)\n",
    "frozen_parameters # just set learning rate to 0.0"
   ]
  },
  {
   "cell_type": "code",
   "execution_count": 508,
   "metadata": {},
   "outputs": [],
   "source": [
    "LAYER = 0\n",
    "\n",
    "# NEURON_0 = model.layers[LAYER].neurons[0]\n",
    "# NEURON_1 = model.layers[LAYER].neurons[0]\n",
    "# NEURON_2 = model.layers[LAYER].neurons[0]\n",
    "# NEURON_3 = model.layers[LAYER].neurons[0]\n",
    "# NEURON_4 = model.layers[LAYER].neurons[0]\n",
    "# NEURON_5 = model.layers[LAYER].neurons[0]\n",
    "# NEURON_6 = model.layers[LAYER].neurons[0]\n",
    "# NEURON_7 = model.layers[LAYER].neurons[0]\n",
    "# NEURON_8 = model.layers[LAYER].neurons[0]\n",
    "# NEURON_9 = model.layers[LAYER].neurons[0]"
   ]
  },
  {
   "cell_type": "code",
   "execution_count": 649,
   "metadata": {},
   "outputs": [
    {
     "data": {
      "image/png": "[encoded data removed]",
      "text/plain": [
       "<Figure size 640x480 with 1 Axes>"
      ]
     },
     "metadata": {},
     "output_type": "display_data"
    }
   ],
   "source": [
    "w = np.array([p.data for p in model.layers[0].neurons[9].parameters()][:-1])\n",
    "w = w.reshape([-1, w.shape[0]])\n",
    "draw_some(w)"
   ]
  },
  {
   "cell_type": "code",
   "execution_count": 416,
   "metadata": {},
   "outputs": [
    {
     "name": "stdout",
     "output_type": "stream",
     "text": [
      "actual: 9 = expected: 9\n"
     ]
    }
   ],
   "source": [
    "# X_t, Y_t = get_batch(X_test, Y_t_oh, BATCH_SIZE)\n",
    "X_t, Y_t = X_b, Y_b\n",
    "\n",
    "input = arr2vals(X_t, 'input')\n",
    "expected = arr2vals(Y_t, 'expected')\n",
    "scores = feed_forward(model, input)\n",
    "\n",
    "for a, e in zip(scores, expected):\n",
    "    a, e = OH_DECODER(a), OH_DECODER(e)\n",
    "    op = '=' if a == e else '!='\n",
    "    print(f'actual: {a} {op} expected: {e}')"
   ]
  },
  {
   "cell_type": "code",
   "execution_count": 417,
   "metadata": {},
   "outputs": [
    {
     "data": {
      "text/plain": [
       "[[Value(auto : [-1.0, 0.0]),\n",
       "  Value(auto : [-1.0, 0.0]),\n",
       "  Value(auto : [-1.0, 0.0]),\n",
       "  Value(auto : [-1.0, 0.0]),\n",
       "  Value(auto : [-1.0, 0.0]),\n",
       "  Value(auto : [-1.0, 0.0]),\n",
       "  Value(auto : [-1.0, 0.0]),\n",
       "  Value(auto : [-1.0, 0.0]),\n",
       "  Value(auto : [-1.0, 0.0]),\n",
       "  Value(auto : [1.0, 0.0])]]"
      ]
     },
     "execution_count": 417,
     "metadata": {},
     "output_type": "execute_result"
    }
   ],
   "source": [
    "scores"
   ]
  },
  {
   "cell_type": "code",
   "execution_count": 418,
   "metadata": {},
   "outputs": [
    {
     "data": {
      "text/plain": [
       "[[Value(expected : [-1.0, 0.0]),\n",
       "  Value(expected : [-1.0, 0.0]),\n",
       "  Value(expected : [-1.0, 0.0]),\n",
       "  Value(expected : [-1.0, 0.0]),\n",
       "  Value(expected : [-1.0, 0.0]),\n",
       "  Value(expected : [-1.0, 0.0]),\n",
       "  Value(expected : [-1.0, 0.0]),\n",
       "  Value(expected : [-1.0, 0.0]),\n",
       "  Value(expected : [-1.0, 0.0]),\n",
       "  Value(expected : [1.0, 0.0])]]"
      ]
     },
     "execution_count": 418,
     "metadata": {},
     "output_type": "execute_result"
    }
   ],
   "source": [
    "expected"
   ]
  },
  {
   "cell_type": "code",
   "execution_count": 419,
   "metadata": {},
   "outputs": [
    {
     "data": {
      "text/plain": [
       "Value(auto : [0.0, 1])"
      ]
     },
     "execution_count": 419,
     "metadata": {},
     "output_type": "execute_result"
    }
   ],
   "source": [
    "total_loss = loss(scores, expected)\n",
    "total_loss.backward()\n",
    "total_loss"
   ]
  },
  {
   "cell_type": "code",
   "execution_count": 420,
   "metadata": {},
   "outputs": [
    {
     "data": {
      "text/plain": [
       "[128.0, 128.0, 128.0, 128.0, 128.0, 128.0, 128.0, 128.0]"
      ]
     },
     "execution_count": 420,
     "metadata": {},
     "output_type": "execute_result"
    }
   ],
   "source": [
    "parameters = [p for p in model.layers[1].parameters() if p.grad > 0.0]\n",
    "parameters.sort(key=lambda p: p._lr)\n",
    "[p._lr for p in parameters]"
   ]
  }
 ],
 "metadata": {
  "kernelspec": {
   "display_name": "Python 3",
   "language": "python",
   "name": "python3"
  },
  "language_info": {
   "codemirror_mode": {
    "name": "ipython",
    "version": 3
   },
   "file_extension": ".py",
   "mimetype": "text/x-python",
   "name": "python",
   "nbconvert_exporter": "python",
   "pygments_lexer": "ipython3",
   "version": "3.11.7"
  }
 },
 "nbformat": 4,
 "nbformat_minor": 2
}
