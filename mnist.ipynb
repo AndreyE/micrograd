{
 "cells": [
  {
   "cell_type": "markdown",
   "metadata": {},
   "source": [
    "###  MicroGrad demo"
   ]
  },
  {
   "cell_type": "code",
   "execution_count": 1,
   "metadata": {},
   "outputs": [],
   "source": [
    "import random\n",
    "import numpy as np\n",
    "import matplotlib.pyplot as plt\n",
    "from collections import defaultdict\n",
    "import torch\n",
    "\n",
    "\n",
    "from micrograd.engine import Value\n",
    "from micrograd.nn import Neuron, Layer, MLP\n",
    "from micrograd.onehot import arr2vals, oh_encode\n",
    "from micrograd.eval import evaluate, calc_accuracy, calc_sq_loss\n",
    "\n",
    "%matplotlib inline"
   ]
  },
  {
   "cell_type": "code",
   "execution_count": 2,
   "metadata": {},
   "outputs": [],
   "source": [
    "np.random.seed(1337)\n",
    "random.seed(1337)"
   ]
  },
  {
   "cell_type": "markdown",
   "metadata": {},
   "source": [
    "# Get MNIST dataset"
   ]
  },
  {
   "cell_type": "code",
   "execution_count": 3,
   "metadata": {},
   "outputs": [],
   "source": [
    "from torchvision import datasets as dts\n",
    "\n",
    "MNIST_DATASET = dts.MNIST(root = 'data', train = True, download=True)\n",
    "\n",
    "X_train = MNIST_DATASET.data / 255.0 # * 2 - 1\n",
    "X_train = X_train.reshape(X_train.shape[0], 784)\n",
    "\n",
    "Y_train = MNIST_DATASET.targets"
   ]
  },
  {
   "cell_type": "code",
   "execution_count": 4,
   "metadata": {},
   "outputs": [
    {
     "data": {
      "text/plain": [
       "tensor([[ 1., -1., -1., -1., -1., -1., -1., -1., -1., -1.],\n",
       "        [-1.,  1., -1., -1., -1., -1., -1., -1., -1., -1.],\n",
       "        [-1., -1.,  1., -1., -1., -1., -1., -1., -1., -1.],\n",
       "        [-1., -1., -1.,  1., -1., -1., -1., -1., -1., -1.],\n",
       "        [-1., -1., -1., -1.,  1., -1., -1., -1., -1., -1.],\n",
       "        [-1., -1., -1., -1., -1.,  1., -1., -1., -1., -1.],\n",
       "        [-1., -1., -1., -1., -1., -1.,  1., -1., -1., -1.],\n",
       "        [-1., -1., -1., -1., -1., -1., -1.,  1., -1., -1.],\n",
       "        [-1., -1., -1., -1., -1., -1., -1., -1.,  1., -1.],\n",
       "        [-1., -1., -1., -1., -1., -1., -1., -1., -1.,  1.]])"
      ]
     },
     "execution_count": 4,
     "metadata": {},
     "output_type": "execute_result"
    }
   ],
   "source": [
    "ALL_POSITIVE_CLASSES = torch.tensor([0, 1, 2, 3, 4, 5, 6, 7, 8, 9])\n",
    "\n",
    "enc, dec = oh_encode(ALL_POSITIVE_CLASSES)\n",
    "enc(ALL_POSITIVE_CLASSES)"
   ]
  },
  {
   "cell_type": "code",
   "execution_count": 5,
   "metadata": {},
   "outputs": [],
   "source": [
    "import torch\n",
    "\n",
    "\n",
    "def append_noise(X, noise_size, min=-1.0, max=1.0):\n",
    "    noise_shape = torch.Size([noise_size]) + X.shape[1:]\n",
    "    noise_tensor = torch.empty(noise_shape).uniform_(min, max)\n",
    "    return torch.concat([X, noise_tensor])\n",
    "\n",
    "\n",
    "def append_void(X, void_size, void=-1.0):\n",
    "    void_shape = torch.Size([void_size]) + X.shape[1:]\n",
    "    void_tensor = torch.empty(void_shape).fill_(void)\n",
    "    return torch.concat([X, void_tensor])\n",
    "\n",
    "\n",
    "def get_batch(X, Y, batch_size, noise_ratio=0.0, void_ratio=0.0, void_class=-1):\n",
    "    ri = np.random.permutation(X.shape[0])[:batch_size]\n",
    "    X, Y = X[ri], Y[ri]\n",
    "\n",
    "    if noise_ratio > 0.0:\n",
    "        noise_size = round(batch_size * noise_ratio)\n",
    "        X = append_noise(X, noise_size)\n",
    "        Y = torch.concat([Y, torch.tensor([void_class] * noise_size)])\n",
    "\n",
    "    if void_ratio > 0.0:\n",
    "        void_size = round(batch_size * void_ratio)\n",
    "        X = append_void(X, void_size, void=np.random.uniform(0, 1))\n",
    "        Y = torch.concat([Y, torch.tensor([void_class] * void_size)])\n",
    "\n",
    "    return X, Y\n",
    "\n",
    "\n",
    "def batch2vals(batch):\n",
    "    return tuple(map(arr2vals, batch))\n"
   ]
  },
  {
   "cell_type": "markdown",
   "metadata": {},
   "source": [
    "# save/load"
   ]
  },
  {
   "cell_type": "code",
   "execution_count": 6,
   "metadata": {},
   "outputs": [],
   "source": [
    "POSITIVE_NEURONS = 'mnist_parameters_10x785_positives.npy'\n",
    "\n",
    "\n",
    "def save_neurons(file, neurons):\n",
    "    weights = np.array([[p.data for p in n.parameters()] for n in neurons])\n",
    "    np.save(file, weights)\n",
    "\n",
    "\n",
    "def load_neurons(file):\n",
    "    weights = np.load(file)\n",
    "    neurons = [Neuron(nin=weights.shape[1] - 1, act='sbin') for _ in range(weights.shape[0])]\n",
    "    for Wi in range(len(neurons)):\n",
    "        for p, w in zip(neurons[Wi].parameters(), weights[Wi]):\n",
    "            p.data = w\n",
    "            p._lr = 0.0\n",
    "    return neurons"
   ]
  },
  {
   "cell_type": "code",
   "execution_count": 7,
   "metadata": {},
   "outputs": [],
   "source": [
    "import matplotlib.pyplot as plt\n",
    "\n",
    "\n",
    "def select(X, Y, selector):\n",
    "    idx = np.where(np.isin(Y, selector))[0]\n",
    "    return X[idx], Y[idx]\n",
    "\n",
    "\n",
    "def select_batch(X, Y, selector, batch_size, noise_ratio=0.0, void_ratio=0.0, void_class=torch.nan):\n",
    "    idx = np.where(np.isin(Y, selector))[0]\n",
    "    return get_batch(X[idx], Y[idx], batch_size, noise_ratio, void_ratio, void_class)\n",
    "\n",
    "\n",
    "def draw_neuron(model, neuron, layer=0):\n",
    "    w = np.array([p.data for p in model.layers[layer].neurons[neuron].parameters()][:-1])\n",
    "    w = w.reshape([-1, w.shape[0]])\n",
    "    plt.imshow(w)\n",
    "\n",
    "\n",
    "def one_neuron_histo(neuron, bins=100):\n",
    "    array = np.array([p.data for p in neuron.parameters()])\n",
    "    plt.hist(array, bins=bins, edgecolor='black')\n",
    "\n",
    "    plt.title('Гистограмма нейрона')\n",
    "    plt.xlabel('Вес')\n",
    "    plt.ylabel('Частота')\n",
    "\n",
    "    plt.show()\n",
    "\n",
    "\n",
    "def draw_all_neurons(neurons, key=lambda p: p.data,):\n",
    "    fig, axes = plt.subplots(1, len(neurons), sharey=True)\n",
    "    if len(neurons) == 1:\n",
    "        axes = [axes]\n",
    "\n",
    "    for neuron, axe in zip(neurons, axes):\n",
    "        array = np.array([key(p) for p in neuron.parameters()][:28**2])\n",
    "        array = array.reshape([-1, array.shape[0]])\n",
    "        axe.imshow(array.reshape([28, 28]))\n",
    "    fig.suptitle(\"Нейроны\")\n",
    "\n",
    "\n",
    "def all_neurons_histo(neurons, key=lambda p: p.data, bins=100):\n",
    "    fig, axes = plt.subplots(1, len(neurons), sharey=True)\n",
    "    if len(neurons) == 1:\n",
    "        axes = [axes]\n",
    "\n",
    "    for neuron, axe in zip(neurons, axes):\n",
    "        array = np.array([key(p) for p in neuron.parameters()])\n",
    "        axe.hist(array, bins=bins, edgecolor='black')\n",
    "\n",
    "    fig.suptitle('Гистограмма нейронов')\n",
    "    fig.supxlabel('Вес')\n",
    "    fig.supylabel('Частота')\n",
    "\n",
    "    plt.show()"
   ]
  },
  {
   "cell_type": "code",
   "execution_count": 8,
   "metadata": {},
   "outputs": [],
   "source": [
    "import math\n",
    "\n",
    "\n",
    "def fit(model, X, Y_oh, oh_decoder, iterations, q=0.75, esat=1e-9):\n",
    "    model.set_train(True)\n",
    "\n",
    "    total_loss, acc, scores, targets = evaluate(model, X, Y_oh, oh_decoder)\n",
    "    print(f\"start: loss {total_loss.data}, accuracy {acc*100}%\")\n",
    "\n",
    "    for k in range(iterations):\n",
    "        if total_loss.data == 0:\n",
    "            print(f\"step {k}: loss {total_loss.data}, accuracy {acc*100}%\")\n",
    "            return total_loss.data, acc, scores, targets\n",
    "\n",
    "        model.learn_from(total_loss, q)\n",
    "\n",
    "        total_loss, acc, scores, targets = evaluate(model, X, Y_oh, oh_decoder)\n",
    "        print(f\"step {k}: loss {total_loss.data}, accuracy {acc*100}%\")\n",
    "\n",
    "        if total_loss.data <= esat:\n",
    "            print(f\"Early STOP!\")\n",
    "            break\n",
    "\n",
    "    model.set_train(False)\n",
    "\n",
    "    return total_loss, acc, scores, targets\n",
    "\n",
    "\n",
    "\n",
    "def get_model_for(classes, batch, iterations, model=None, q=0.75, esat=1e-9, with_frozen_neurons=False):\n",
    "    X, Y = batch\n",
    "    DIM = len(classes)\n",
    "    LAYER_0_SIZE = math.comb(DIM, 2) + (DIM if not with_frozen_neurons else 0)\n",
    "\n",
    "    oh_encoder, oh_decoder = oh_encode(classes)\n",
    "    oh_decoder([Value(0)] * DIM)\n",
    "\n",
    "    Y_oh = oh_encoder(Y)\n",
    "\n",
    "    # initialize a model\n",
    "    if model is None:\n",
    "        model = MLP(\n",
    "            [\n",
    "                # Layer([784, LAYER_0_SIZE], 'line', lr=1.0),\n",
    "                # Layer([LAYER_0_SIZE, DIM], 'sbin', lr=1.0)\n",
    "                Layer([784, DIM], 'line', lr=1.0, _lid=0, init=lambda: 0.0)\n",
    "            ],\n",
    "            train=True\n",
    "        )\n",
    "\n",
    "    if with_frozen_neurons:\n",
    "        frozen_positives = [n for c, n in enumerate(load_neurons(POSITIVE_NEURONS)) if c in classes]\n",
    "        model.layers[0].neurons = model.layers[0].neurons + frozen_positives\n",
    "\n",
    "    total_loss, acc, scores, targets = fit(model, X, Y_oh, oh_decoder, iterations, esat=esat, q=q)\n",
    "\n",
    "    return (model, total_loss, acc), (scores, targets), (oh_encoder, oh_decoder)"
   ]
  },
  {
   "cell_type": "code",
   "execution_count": 9,
   "metadata": {},
   "outputs": [
    {
     "name": "stdout",
     "output_type": "stream",
     "text": [
      "debug: std = 0.0\n"
     ]
    }
   ],
   "source": [
    "import functools\n",
    "\n",
    "SELECTED_CLASSES = [0]\n",
    "OH_ENC, OH_DEC = oh_encode(SELECTED_CLASSES)\n",
    "\n",
    "MODEL = MLP(\n",
    "    [\n",
    "        # Layer([784, 1], 'sbin', _lid=0, init=lambda: 0.0),\n",
    "        Layer([784, len(SELECTED_CLASSES)], 'sbin', _lid=1, init=lambda: 0.0)\n",
    "    ],\n",
    "    train=True\n",
    ")\n",
    "\n",
    "NOISE_RATIO = 0.0\n",
    "VOID_RATIO = 0.0\n",
    "ITERATIONS = 1\n",
    "BATCH_SIZE = 100\n",
    "BATCH = select_batch(X_train, Y_train, SELECTED_CLASSES, BATCH_SIZE, noise_ratio=NOISE_RATIO, void_ratio=VOID_RATIO)\n",
    "X_b, Y_b = BATCH\n",
    "\n",
    "X = arr2vals(X_b, 'input')\n",
    "Y_oh = arr2vals(OH_ENC(Y_b), 'target')\n",
    "\n",
    "LEARNER = MODEL.make_learner(X, get_loss=functools.partial(calc_sq_loss, targets=Y_oh))\n",
    "\n",
    "# draw_all_neurons(MODEL.layers[0].neurons)\n",
    "# all_neurons_histo(MODEL.layers[0].neurons)"
   ]
  },
  {
   "cell_type": "code",
   "execution_count": 10,
   "metadata": {},
   "outputs": [
    {
     "name": "stdout",
     "output_type": "stream",
     "text": [
      "0 loss: 100.0\n",
      "debug: std = 3.6821932062951476e-17\n",
      "final loss: 1.2212453270876722e-15\n",
      "1.0 (Value(sbin : [1.0, 0.0, 1.0]),)\n"
     ]
    },
    {
     "data": {
      "image/png": "[encoded data removed]",
      "text/plain": [
       "<Figure size 640x480 with 1 Axes>"
      ]
     },
     "metadata": {},
     "output_type": "display_data"
    },
    {
     "data": {
      "image/png": "[encoded data removed]",
      "text/plain": [
       "<Figure size 640x480 with 1 Axes>"
      ]
     },
     "metadata": {},
     "output_type": "display_data"
    }
   ],
   "source": [
    "total_loss, scores = LEARNER(i=1, q=1.0)\n",
    "\n",
    "acc = calc_accuracy(scores, Y_oh, OH_DEC)\n",
    "print(acc, scores[0])\n",
    "\n",
    "draw_all_neurons(MODEL.layers[0].neurons)\n",
    "all_neurons_histo(MODEL.layers[0].neurons)"
   ]
  },
  {
   "cell_type": "markdown",
   "metadata": {},
   "source": [
    "# DEBUG"
   ]
  },
  {
   "cell_type": "code",
   "execution_count": 11,
   "metadata": {},
   "outputs": [
    {
     "data": {
      "image/png": "[encoded data removed]",
      "text/plain": [
       "<Figure size 640x480 with 1 Axes>"
      ]
     },
     "metadata": {},
     "output_type": "display_data"
    }
   ],
   "source": [
    "total_loss.backward()\n",
    "all_neurons_histo(MODEL.layers[0].neurons, key=lambda p: p.grad)"
   ]
  },
  {
   "cell_type": "code",
   "execution_count": 25,
   "metadata": {},
   "outputs": [
    {
     "data": {
      "text/html": [
       "<div>\n",
       "<style scoped>\n",
       "    .dataframe tbody tr th:only-of-type {\n",
       "        vertical-align: middle;\n",
       "    }\n",
       "\n",
       "    .dataframe tbody tr th {\n",
       "        vertical-align: top;\n",
       "    }\n",
       "\n",
       "    .dataframe thead th {\n",
       "        text-align: right;\n",
       "    }\n",
       "</style>\n",
       "<table border=\"1\" class=\"dataframe\">\n",
       "  <thead>\n",
       "    <tr style=\"text-align: right;\">\n",
       "      <th></th>\n",
       "      <th>0</th>\n",
       "    </tr>\n",
       "  </thead>\n",
       "  <tbody>\n",
       "    <tr>\n",
       "      <th>count</th>\n",
       "      <td>784.000000</td>\n",
       "    </tr>\n",
       "    <tr>\n",
       "      <th>mean</th>\n",
       "      <td>17.406623</td>\n",
       "    </tr>\n",
       "    <tr>\n",
       "      <th>std</th>\n",
       "      <td>24.170293</td>\n",
       "    </tr>\n",
       "    <tr>\n",
       "      <th>min</th>\n",
       "      <td>0.000000</td>\n",
       "    </tr>\n",
       "    <tr>\n",
       "      <th>25%</th>\n",
       "      <td>0.000000</td>\n",
       "    </tr>\n",
       "    <tr>\n",
       "      <th>50%</th>\n",
       "      <td>1.113726</td>\n",
       "    </tr>\n",
       "    <tr>\n",
       "      <th>75%</th>\n",
       "      <td>33.642157</td>\n",
       "    </tr>\n",
       "    <tr>\n",
       "      <th>max</th>\n",
       "      <td>80.454902</td>\n",
       "    </tr>\n",
       "  </tbody>\n",
       "</table>\n",
       "</div>"
      ],
      "text/plain": [
       "                0\n",
       "count  784.000000\n",
       "mean    17.406623\n",
       "std     24.170293\n",
       "min      0.000000\n",
       "25%      0.000000\n",
       "50%      1.113726\n",
       "75%     33.642157\n",
       "max     80.454902"
      ]
     },
     "execution_count": 25,
     "metadata": {},
     "output_type": "execute_result"
    }
   ],
   "source": [
    "import pandas as pd\n",
    "\n",
    "numbers = [p.data for p in MODEL.layers[0].neurons[0].parameters()]\n",
    "numbers.sort()\n",
    "\n",
    "pd.DataFrame(numbers).describe()"
   ]
  }
 ],
 "metadata": {
  "kernelspec": {
   "display_name": "Python 3",
   "language": "python",
   "name": "python3"
  },
  "language_info": {
   "codemirror_mode": {
    "name": "ipython",
    "version": 3
   },
   "file_extension": ".py",
   "mimetype": "text/x-python",
   "name": "python",
   "nbconvert_exporter": "python",
   "pygments_lexer": "ipython3",
   "version": "3.11.0"
  }
 },
 "nbformat": 4,
 "nbformat_minor": 2
}
