{
 "cells": [
  {
   "cell_type": "markdown",
   "metadata": {},
   "source": [
    "###  MicroGrad demo"
   ]
  },
  {
   "cell_type": "code",
   "execution_count": 27,
   "metadata": {},
   "outputs": [],
   "source": [
    "import random\n",
    "import numpy as np\n",
    "import matplotlib.pyplot as plt\n",
    "\n",
    "\n",
    "from micrograd.engine import Value\n",
    "from micrograd.nn import Neuron, Layer, MLP\n",
    "\n",
    "%matplotlib inline"
   ]
  },
  {
   "cell_type": "code",
   "execution_count": 28,
   "metadata": {},
   "outputs": [],
   "source": [
    "np.random.seed(1337)\n",
    "random.seed(1337)"
   ]
  },
  {
   "cell_type": "code",
   "execution_count": 29,
   "metadata": {},
   "outputs": [],
   "source": [
    "from graphviz import Digraph\n",
    "\n",
    "def trace(root):\n",
    "    nodes, edges = set(), set()\n",
    "    def build(v):\n",
    "        if v not in nodes:\n",
    "            nodes.add(v)\n",
    "            for child in v._prev:\n",
    "                edges.add((child, v))\n",
    "                build(child)\n",
    "    build(root)\n",
    "    return nodes, edges\n",
    "\n",
    "def draw_dot(root, format='svg', rankdir='LR'):\n",
    "    \"\"\"\n",
    "    format: png | svg | ...\n",
    "    rankdir: TB (top to bottom graph) | LR (left to right)\n",
    "    \"\"\"\n",
    "    assert rankdir in ['LR', 'TB']\n",
    "    nodes, edges = trace(root)\n",
    "    dot = Digraph(format=format, graph_attr={'rankdir': rankdir}) #, node_attr={'rankdir': 'TB'})\n",
    "\n",
    "    for n in nodes:\n",
    "        dot.node(name=str(id(n)), label = \"{ %s | data %.4f | grad %.4f }\" % (n._name, n.data, n.grad), shape='record')\n",
    "        if n._op:\n",
    "            dot.node(name=str(id(n)) + n._op, label=n._op)\n",
    "            dot.edge(str(id(n)) + n._op, str(id(n)))\n",
    "\n",
    "    for n1, n2 in edges:\n",
    "        dot.edge(str(id(n1)), str(id(n2)) + n2._op)\n",
    "\n",
    "    return dot"
   ]
  },
  {
   "cell_type": "markdown",
   "metadata": {},
   "source": [
    "# Get MNIST dataset"
   ]
  },
  {
   "cell_type": "code",
   "execution_count": 30,
   "metadata": {},
   "outputs": [],
   "source": [
    "from torchvision import datasets as dts\n",
    "\n",
    "MNIST_DATASET = dts.MNIST(root = 'data', train = True, download=True)\n",
    "\n",
    "X_train = (MNIST_DATASET.data / 255.0 * 2 - 1)\n",
    "X_train = X_train.reshape(X_train.shape[0], 784)\n",
    "\n",
    "Y_train = MNIST_DATASET.targets"
   ]
  },
  {
   "cell_type": "code",
   "execution_count": 31,
   "metadata": {},
   "outputs": [
    {
     "data": {
      "image/png": "[encoded data removed]",
      "text/plain": [
       "<Figure size 640x480 with 1 Axes>"
      ]
     },
     "metadata": {},
     "output_type": "display_data"
    }
   ],
   "source": [
    "def draw_some(numbers):\n",
    "    number = numbers[random.randint(0, numbers.shape[0] - 1)]\n",
    "    plt.imshow(number.reshape([28, 28]))\n",
    "\n",
    "draw_some(X_train)"
   ]
  },
  {
   "cell_type": "code",
   "execution_count": 32,
   "metadata": {},
   "outputs": [],
   "source": [
    "from collections import defaultdict\n",
    "\n",
    "ALL_POSITIVE_CLASSES = [0, 1, 2, 3, 4, 5, 6, 7, 8, 9]\n",
    "\n",
    "def oh_encode(classes):\n",
    "    NEG = -1.0\n",
    "    POS = 1.0\n",
    "\n",
    "    noise = np.array([NEG] * len(classes))\n",
    "\n",
    "    oh_enc = defaultdict(lambda: noise)\n",
    "    oh_dec = defaultdict(lambda: None)\n",
    "\n",
    "    for i, cls in enumerate(classes):\n",
    "        cls_vec = np.array([NEG] * len(classes))\n",
    "        cls_vec[i] = POS\n",
    "        oh_enc[cls] = cls_vec\n",
    "        oh_dec[tuple(cls_vec)] = cls\n",
    "\n",
    "    def oh_decoder(values):\n",
    "        # pick the closest vector (is round() OK for that?)\n",
    "        encoded = tuple(np.array([v.data for v in values]).round())\n",
    "        return oh_dec[encoded]\n",
    "\n",
    "    def oh_encoder(Y):\n",
    "        return np.array([oh_enc[cls] for cls in Y])\n",
    "\n",
    "    return oh_encoder, oh_decoder"
   ]
  },
  {
   "cell_type": "code",
   "execution_count": 33,
   "metadata": {},
   "outputs": [
    {
     "data": {
      "text/plain": [
       "array([[-0.47595065, -0.68263206, -0.44374696],\n",
       "       [-0.08136623, -0.35799892,  0.03678564]])"
      ]
     },
     "execution_count": 33,
     "metadata": {},
     "output_type": "execute_result"
    }
   ],
   "source": [
    "np.random.uniform(-1, 1, [2,3])"
   ]
  },
  {
   "cell_type": "code",
   "execution_count": 34,
   "metadata": {},
   "outputs": [],
   "source": [
    "import math\n",
    "import torch\n",
    "\n",
    "\n",
    "def append_noise(X, noise_size, min=-1.0, max=1.0):\n",
    "    noise_shape = torch.Size([noise_size]) + X.shape[1:]\n",
    "    noise = torch.empty(noise_shape).uniform_(min, max)\n",
    "    return torch.concat([X, noise])\n",
    "\n",
    "\n",
    "def get_batch(X, Y, batch_size, noise_ratio=0.0, noise_class=-1):\n",
    "    ri = np.random.permutation(X.shape[0])[:batch_size]\n",
    "    X, Y = X[ri], Y[ri]\n",
    "\n",
    "    if noise_ratio > 0.0:\n",
    "        noise_size = round(batch_size * noise_ratio)\n",
    "        X = append_noise(X, noise_size)\n",
    "        Y = torch.concat([Y, torch.tensor([noise_class] * noise_size)])\n",
    "\n",
    "    return X, Y\n",
    "\n",
    "\n",
    "def arr2vals(array, name=''):\n",
    "    return [[Value(el, _name=name) for el in row] for row in array]\n",
    "\n",
    "\n",
    "def batch2vals(batch):\n",
    "    return tuple(map(arr2vals, batch))\n"
   ]
  },
  {
   "cell_type": "code",
   "execution_count": 35,
   "metadata": {},
   "outputs": [],
   "source": [
    "def calc_accuracy(scores, ground_truths, oh_decoder):\n",
    "    matches = 0\n",
    "    for score, ground_truths in zip(scores, ground_truths):\n",
    "        matches += oh_decoder(score) == oh_decoder(ground_truths)\n",
    "    return matches / len(scores)\n",
    "\n",
    "\n",
    "def one_loss(score, ground_truth):\n",
    "    return sum((s - gt)**2 for s, gt in zip(score, ground_truth))\n",
    "\n",
    "\n",
    "def calc_loss(scores, Y_oh):\n",
    "    return sum(one_loss(xs, ys) for xs, ys in zip(scores, Y_oh))\n",
    "\n",
    "\n",
    "def feed_forward(model, X):\n",
    "    return list(map(model, X))\n",
    "\n",
    "\n",
    "def evaluate(model, X, Y_oh, oh_decoder):\n",
    "    input = arr2vals(X, 'input')\n",
    "    scores = feed_forward(model, input)\n",
    "    expected = arr2vals(Y_oh, 'expected')\n",
    "    return calc_loss(scores, expected), calc_accuracy(scores, expected, oh_decoder)"
   ]
  },
  {
   "cell_type": "markdown",
   "metadata": {},
   "source": [
    "# save/load"
   ]
  },
  {
   "cell_type": "code",
   "execution_count": 36,
   "metadata": {},
   "outputs": [],
   "source": [
    "POSITIVE_NEURONS = 'mnist_parameters_10x785_positives.npy'\n",
    "\n",
    "\n",
    "def save_neurons(file, neurons):\n",
    "    weights = np.array([[p.data for p in n.parameters()] for n in neurons])\n",
    "    np.save(file, weights)\n",
    "\n",
    "\n",
    "def load_neurons(file):\n",
    "    weights = np.load(file)\n",
    "    neurons = [Neuron(nin=weights.shape[1] - 1, act='xspace') for _ in range(weights.shape[0])]\n",
    "    for Wi in range(len(neurons)):\n",
    "        for p, w in zip(neurons[Wi].parameters(), weights[Wi]):\n",
    "            p.data = w\n",
    "            p._lr = 0.0\n",
    "    return neurons"
   ]
  },
  {
   "cell_type": "code",
   "execution_count": 37,
   "metadata": {},
   "outputs": [],
   "source": [
    "# select positives\n",
    "def select(X, Y, selector):\n",
    "    idx = np.where(np.isin(Y, selector))[0]\n",
    "    return X[idx], Y[idx]\n",
    "\n",
    "\n",
    "def select_batch(X, Y, selector, batch_size, noise_ratio=0.0, noise_class=-1):\n",
    "    idx = np.where(np.isin(Y, selector))[0]\n",
    "    return get_batch(X[idx], Y[idx], batch_size, noise_ratio, noise_class)\n",
    "\n",
    "\n",
    "def draw_neuron(model, neuron, layer=0):\n",
    "    w = np.array([p.data for p in model.layers[layer].neurons[neuron].parameters()][:-1])\n",
    "    w = w.reshape([-1, w.shape[0]])\n",
    "    draw_some(w)"
   ]
  },
  {
   "cell_type": "code",
   "execution_count": 38,
   "metadata": {},
   "outputs": [],
   "source": [
    "import math\n",
    "\n",
    "def fit(model, X, Y_oh, oh_decoder, iterations, q=0.75, esat=1e-9):\n",
    "    total_loss, acc = evaluate(model, X, Y_oh, oh_decoder)\n",
    "    print(f\"start: loss {total_loss.data}, accuracy {acc*100}%\")\n",
    "\n",
    "    for k in range(iterations):\n",
    "        if total_loss.data == 0:\n",
    "            print(f\"step {k}: loss {total_loss.data}, accuracy {acc*100}%\")\n",
    "            return total_loss.data, acc\n",
    "\n",
    "        model.learn_from(total_loss, q)\n",
    "        model.norm()\n",
    "\n",
    "        total_loss, acc = evaluate(model, X, Y_oh, oh_decoder)\n",
    "        print(f\"step {k}: loss {total_loss.data}, accuracy {acc*100}%\")\n",
    "\n",
    "        if total_loss.data <= esat:\n",
    "            print(f\"Early STOP!\")\n",
    "            break\n",
    "\n",
    "    return total_loss.data, acc\n",
    "\n",
    "\n",
    "\n",
    "def get_model_for(classes, batch, iterations, model=None, q=0.75, esat=1e-9):\n",
    "    X, Y = batch\n",
    "\n",
    "    oh_encoder, oh_decoder = oh_encode(classes)\n",
    "    n = len(classes)\n",
    "\n",
    "    Y_oh = oh_encoder(Y)\n",
    "\n",
    "    # initialize a model\n",
    "    if model is None:\n",
    "        model = MLP(\n",
    "            784,\n",
    "            [\n",
    "                (math.comb(n, 2), 'xspace'),\n",
    "                (n, 'xspace')\n",
    "            ],\n",
    "            lr=1.0\n",
    "        )\n",
    "\n",
    "    frozen_positives = [n for c, n in enumerate(load_neurons(POSITIVE_NEURONS)) if c in classes]\n",
    "    model.layers[0].neurons = model.layers[0].neurons + frozen_positives\n",
    "\n",
    "    total_loss, acc = fit(model, X, Y_oh, oh_decoder, iterations, esat=esat, q=q)\n",
    "\n",
    "    return model, total_loss, acc"
   ]
  },
  {
   "cell_type": "code",
   "execution_count": 39,
   "metadata": {},
   "outputs": [
    {
     "name": "stdout",
     "output_type": "stream",
     "text": [
      "start: loss 1104.0, accuracy 84.0%\n",
      "step 0: loss 3.697785493223493e-32, accuracy 100.0%\n",
      "Early STOP!\n"
     ]
    },
    {
     "data": {
      "image/png": "[encoded data removed]",
      "text/plain": [
       "<Figure size 640x480 with 1 Axes>"
      ]
     },
     "metadata": {},
     "output_type": "display_data"
    }
   ],
   "source": [
    "SELECTED_CLASSES = [3, 5]\n",
    "ITERATIONS = 10\n",
    "BATCH_SIZE = 100\n",
    "BATCH = select_batch(X_train, Y_train, SELECTED_CLASSES, BATCH_SIZE, noise_ratio=0.5)\n",
    "X, Y = BATCH\n",
    "\n",
    "model, total_loss, accuracy = get_model_for(SELECTED_CLASSES, BATCH, ITERATIONS, q=1.0)\n",
    "draw_neuron(model, 0)"
   ]
  },
  {
   "cell_type": "code",
   "execution_count": 46,
   "metadata": {},
   "outputs": [
    {
     "data": {
      "image/png": "[encoded data removed]",
      "text/plain": [
       "<Figure size 640x480 with 1 Axes>"
      ]
     },
     "metadata": {},
     "output_type": "display_data"
    }
   ],
   "source": [
    "draw_neuron(model, 0)"
   ]
  },
  {
   "cell_type": "markdown",
   "metadata": {},
   "source": [
    "# DEBUG"
   ]
  },
  {
   "cell_type": "code",
   "execution_count": 45,
   "metadata": {},
   "outputs": [
    {
     "name": "stdout",
     "output_type": "stream",
     "text": [
      "start: loss 3.697785493223493e-32, accuracy 100.0%\n",
      "step 0: loss 3.697785493223493e-32, accuracy 100.0%\n"
     ]
    },
    {
     "data": {
      "image/png": "[encoded data removed]",
      "text/plain": [
       "<Figure size 640x480 with 1 Axes>"
      ]
     },
     "metadata": {},
     "output_type": "display_data"
    }
   ],
   "source": [
    "model, total_loss, accuracy = get_model_for(SELECTED_CLASSES, BATCH, 1, model, esat=0.0)\n",
    "draw_neuron(model, 0)"
   ]
  },
  {
   "cell_type": "code",
   "execution_count": null,
   "metadata": {},
   "outputs": [
    {
     "data": {
      "text/plain": [
       "2.998622179031372"
      ]
     },
     "execution_count": 67,
     "metadata": {},
     "output_type": "execute_result"
    }
   ],
   "source": [
    "model.layers[0].neurons[0].parameters()[0].data"
   ]
  },
  {
   "cell_type": "code",
   "execution_count": 24,
   "metadata": {},
   "outputs": [
    {
     "data": {
      "text/html": [
       "<div>\n",
       "<style scoped>\n",
       "    .dataframe tbody tr th:only-of-type {\n",
       "        vertical-align: middle;\n",
       "    }\n",
       "\n",
       "    .dataframe tbody tr th {\n",
       "        vertical-align: top;\n",
       "    }\n",
       "\n",
       "    .dataframe thead th {\n",
       "        text-align: right;\n",
       "    }\n",
       "</style>\n",
       "<table border=\"1\" class=\"dataframe\">\n",
       "  <thead>\n",
       "    <tr style=\"text-align: right;\">\n",
       "      <th></th>\n",
       "      <th>0</th>\n",
       "    </tr>\n",
       "  </thead>\n",
       "  <tbody>\n",
       "    <tr>\n",
       "      <th>count</th>\n",
       "      <td>785.000000</td>\n",
       "    </tr>\n",
       "    <tr>\n",
       "      <th>mean</th>\n",
       "      <td>-2.269528</td>\n",
       "    </tr>\n",
       "    <tr>\n",
       "      <th>std</th>\n",
       "      <td>1.000638</td>\n",
       "    </tr>\n",
       "    <tr>\n",
       "      <th>min</th>\n",
       "      <td>-2.876315</td>\n",
       "    </tr>\n",
       "    <tr>\n",
       "      <th>25%</th>\n",
       "      <td>-2.874962</td>\n",
       "    </tr>\n",
       "    <tr>\n",
       "      <th>50%</th>\n",
       "      <td>-2.848597</td>\n",
       "    </tr>\n",
       "    <tr>\n",
       "      <th>75%</th>\n",
       "      <td>-1.984009</td>\n",
       "    </tr>\n",
       "    <tr>\n",
       "      <th>max</th>\n",
       "      <td>2.875185</td>\n",
       "    </tr>\n",
       "  </tbody>\n",
       "</table>\n",
       "</div>"
      ],
      "text/plain": [
       "                0\n",
       "count  785.000000\n",
       "mean    -2.269528\n",
       "std      1.000638\n",
       "min     -2.876315\n",
       "25%     -2.874962\n",
       "50%     -2.848597\n",
       "75%     -1.984009\n",
       "max      2.875185"
      ]
     },
     "execution_count": 24,
     "metadata": {},
     "output_type": "execute_result"
    }
   ],
   "source": [
    "import pandas as pd\n",
    "\n",
    "numbers = [p.data for p in model.layers[0].neurons[0].parameters()]\n",
    "numbers.sort()\n",
    "\n",
    "pd.DataFrame(numbers).describe()"
   ]
  }
 ],
 "metadata": {
  "kernelspec": {
   "display_name": "Python 3",
   "language": "python",
   "name": "python3"
  },
  "language_info": {
   "codemirror_mode": {
    "name": "ipython",
    "version": 3
   },
   "file_extension": ".py",
   "mimetype": "text/x-python",
   "name": "python",
   "nbconvert_exporter": "python",
   "pygments_lexer": "ipython3",
   "version": "3.11.0"
  }
 },
 "nbformat": 4,
 "nbformat_minor": 2
}
