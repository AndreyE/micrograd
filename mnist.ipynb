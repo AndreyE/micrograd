{
 "cells": [
  {
   "cell_type": "markdown",
   "metadata": {},
   "source": [
    "###  MicroGrad demo"
   ]
  },
  {
   "cell_type": "code",
   "execution_count": 11,
   "metadata": {},
   "outputs": [],
   "source": [
    "import random\n",
    "import numpy as np\n",
    "import matplotlib.pyplot as plt\n",
    "import tensorflow as tf\n",
    "\n",
    "%matplotlib inline"
   ]
  },
  {
   "cell_type": "code",
   "execution_count": 12,
   "metadata": {},
   "outputs": [],
   "source": [
    "np.random.seed(1337)\n",
    "random.seed(1337)"
   ]
  },
  {
   "cell_type": "code",
   "execution_count": 13,
   "metadata": {},
   "outputs": [],
   "source": [
    "from graphviz import Digraph\n",
    "\n",
    "def trace(root):\n",
    "    nodes, edges = set(), set()\n",
    "    def build(v):\n",
    "        if v not in nodes:\n",
    "            nodes.add(v)\n",
    "            for child in v._prev:\n",
    "                edges.add((child, v))\n",
    "                build(child)\n",
    "    build(root)\n",
    "    return nodes, edges\n",
    "\n",
    "def draw_dot(root, format='svg', rankdir='LR'):\n",
    "    \"\"\"\n",
    "    format: png | svg | ...\n",
    "    rankdir: TB (top to bottom graph) | LR (left to right)\n",
    "    \"\"\"\n",
    "    assert rankdir in ['LR', 'TB']\n",
    "    nodes, edges = trace(root)\n",
    "    dot = Digraph(format=format, graph_attr={'rankdir': rankdir}) #, node_attr={'rankdir': 'TB'})\n",
    "\n",
    "    for n in nodes:\n",
    "        dot.node(name=str(id(n)), label = \"{ %s | data %.4f | grad %.4f }\" % (n._name, n.data, n.grad), shape='record')\n",
    "        if n._op:\n",
    "            dot.node(name=str(id(n)) + n._op, label=n._op)\n",
    "            dot.edge(str(id(n)) + n._op, str(id(n)))\n",
    "\n",
    "    for n1, n2 in edges:\n",
    "        dot.edge(str(id(n1)), str(id(n2)) + n2._op)\n",
    "\n",
    "    return dot"
   ]
  },
  {
   "cell_type": "code",
   "execution_count": 14,
   "metadata": {},
   "outputs": [],
   "source": [
    "# Загрузка данных MNIST\n",
    "(X_train, Y_train), (X_test, Y_test) = tf.keras.datasets.mnist.load_data()\n",
    "\n",
    "# Преобразование данных в формат float32\n",
    "X_train = X_train.astype('float64') / 255.0 * 2 - 1\n",
    "X_test = X_test.astype('float64') / 255.0 * 2 - 1\n",
    "\n",
    "# Изменение формы данных\n",
    "X_train = X_train.reshape(X_train.shape[0], 784)\n",
    "X_test = X_test.reshape(X_test.shape[0], 784)\n",
    "\n",
    "# One-hot кодирование меток\n",
    "# y_train_oh = tf.keras.utils.to_categorical(y_train, num_classes=10)\n",
    "# y_test_oh = tf.keras.utils.to_categorical(y_test, num_classes=10)\n",
    "\n",
    "# y_train_oh"
   ]
  },
  {
   "cell_type": "code",
   "execution_count": 15,
   "metadata": {},
   "outputs": [
    {
     "data": {
      "image/png": "[encoded data removed]",
      "text/plain": [
       "<Figure size 640x480 with 1 Axes>"
      ]
     },
     "metadata": {},
     "output_type": "display_data"
    }
   ],
   "source": [
    "def draw_some(numbers):\n",
    "    number = numbers[random.randint(0, numbers.shape[0] - 1)]\n",
    "    plt.imshow(number.reshape([28, 28]))\n",
    "\n",
    "draw_some(X_train)"
   ]
  },
  {
   "cell_type": "code",
   "execution_count": 16,
   "metadata": {},
   "outputs": [
    {
     "data": {
      "text/plain": [
       "(60000, 10)"
      ]
     },
     "execution_count": 16,
     "metadata": {},
     "output_type": "execute_result"
    }
   ],
   "source": [
    "from collections import defaultdict\n",
    "\n",
    "POSITIVE_CLASSES = [0, 1, 2, 3, 4, 5, 6, 7, 8, 9]\n",
    "\n",
    "def oh_encode(y, classes):\n",
    "    noise = np.array([0.0] * len(classes))\n",
    "\n",
    "    oh_enc = defaultdict(lambda: noise)\n",
    "    oh_dec = defaultdict(lambda: None)\n",
    "\n",
    "    for i, cls in enumerate(classes):\n",
    "        cls_vec = np.array([-1.0] * len(classes))\n",
    "        cls_vec[i] = 1.0\n",
    "        oh_enc[cls] = cls_vec\n",
    "        oh_dec[tuple(cls_vec)] = cls\n",
    "\n",
    "    def oh_decode(values):\n",
    "        # pick the closest vector (is round() OK for that?)\n",
    "        encoded = tuple(np.array([v.data for v in values]).round())\n",
    "        return oh_dec[encoded]\n",
    "\n",
    "    return oh_decode, np.array([oh_enc[cls] for cls in y])\n",
    "\n",
    "OH_DECODER, Y_oh = oh_encode(Y_train, POSITIVE_CLASSES)\n",
    "Y_oh.shape"
   ]
  },
  {
   "cell_type": "code",
   "execution_count": 21,
   "metadata": {},
   "outputs": [
    {
     "name": "stdout",
     "output_type": "stream",
     "text": [
      "MLP of [Layer of [tanh-Neuron(784), tanh-Neuron(784), tanh-Neuron(784), tanh-Neuron(784), tanh-Neuron(784), tanh-Neuron(784), tanh-Neuron(784), tanh-Neuron(784), tanh-Neuron(784), tanh-Neuron(784)]]\n",
      "number of parameters 7850\n"
     ]
    }
   ],
   "source": [
    "from micrograd.engine import Value\n",
    "from micrograd.nn import Neuron, Layer, MLP\n",
    "\n",
    "# initialize a model\n",
    "model = MLP(\n",
    "    784,\n",
    "    [\n",
    "        (10, 'tanh')\n",
    "    ]\n",
    ")\n",
    "print(model)\n",
    "print(\"number of parameters\", len(model.parameters()))"
   ]
  },
  {
   "cell_type": "code",
   "execution_count": 18,
   "metadata": {},
   "outputs": [],
   "source": [
    "def get_batch(X, Y_oh, batch_size):\n",
    "    ri = np.random.permutation(X.shape[0])[:batch_size]\n",
    "    X, Y_oh = X[ri], Y_oh[ri]\n",
    "    return X, Y_oh\n",
    "\n",
    "\n",
    "def arr2vals(array, name):\n",
    "    return [[Value(el, _name=name) for el in row] for row in array]\n",
    "\n",
    "\n",
    "def batch2vals(batch):\n",
    "    return tuple(map(arr2vals, batch))"
   ]
  },
  {
   "cell_type": "code",
   "execution_count": 19,
   "metadata": {},
   "outputs": [],
   "source": [
    "# loss function\n",
    "def one_loss(score, ground_truth):\n",
    "    return sum((s - gt)**2 for s, gt in zip(score, ground_truth))\n",
    "\n",
    "\n",
    "def accuracy(scores, ground_truths):\n",
    "    matches = 0\n",
    "    for score, ground_truths in zip(scores, ground_truths):\n",
    "        matches += OH_DECODER(score) == OH_DECODER(ground_truths)\n",
    "\n",
    "    return matches / len(scores)\n",
    "\n",
    "\n",
    "def loss(scores, Y_oh):\n",
    "    return sum(one_loss(xs, ys) for xs, ys in zip(scores, Y_oh))\n",
    "\n",
    "\n",
    "def feed_forward(model, X):\n",
    "    return list(map(model, X))\n",
    "\n",
    "\n",
    "def evaluate(model, X_b, Y_b):\n",
    "    input = arr2vals(X_b, 'input')\n",
    "    scores = feed_forward(model, input)\n",
    "    expected = arr2vals(Y_b, 'expected')\n",
    "    return loss(scores, expected), accuracy(scores, expected)"
   ]
  },
  {
   "cell_type": "code",
   "execution_count": 22,
   "metadata": {},
   "outputs": [
    {
     "name": "stdout",
     "output_type": "stream",
     "text": [
      "step 0 loss 496.5158644016144, accuracy 0.0%\n",
      "step 1 loss 387.43508060538835, accuracy 0.0%\n",
      "step 2 loss 331.9993680428693, accuracy 0.0%\n",
      "step 3 loss 331.9967025563721, accuracy 0.0%\n",
      "step 4 loss 328.11280674033515, accuracy 0.0%\n",
      "step 5 loss 268.0000040700552, accuracy 0.0%\n",
      "step 6 loss 268.0000036599159, accuracy 0.0%\n",
      "step 7 loss 268.0000032996887, accuracy 0.0%\n",
      "step 8 loss 268.00000298045086, accuracy 0.0%\n",
      "step 9 loss 268.0000026952976, accuracy 0.0%\n",
      "step 9 loss 268.00000243879987, accuracy 0.0%\n",
      "final loss 268.00000243879987, accuracy 0.0%\n"
     ]
    }
   ],
   "source": [
    "BATCH_SIZE = 16\n",
    "X_b, Y_b = get_batch(X_train, Y_oh, BATCH_SIZE)\n",
    "\n",
    "# optimization\n",
    "for k in range(10):\n",
    "    total_loss, acc = evaluate(model, X_b, Y_b)\n",
    "    print(f\"step {k} loss {total_loss.data}, accuracy {acc*100}%\")\n",
    "\n",
    "    model.learn_from(total_loss, 1)\n",
    "\n",
    "total_loss, acc = evaluate(model, X_b, Y_b)\n",
    "print(f\"step {k} loss {total_loss.data}, accuracy {acc*100}%\")\n",
    "print(f\"final loss {total_loss.data}, accuracy {acc*100}%\")"
   ]
  }
 ],
 "metadata": {
  "kernelspec": {
   "display_name": "Python 3",
   "language": "python",
   "name": "python3"
  },
  "language_info": {
   "codemirror_mode": {
    "name": "ipython",
    "version": 3
   },
   "file_extension": ".py",
   "mimetype": "text/x-python",
   "name": "python",
   "nbconvert_exporter": "python",
   "pygments_lexer": "ipython3",
   "version": "3.11.7"
  }
 },
 "nbformat": 4,
 "nbformat_minor": 2
}
