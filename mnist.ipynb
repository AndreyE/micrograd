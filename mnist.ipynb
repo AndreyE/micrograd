{
 "cells": [
  {
   "cell_type": "markdown",
   "metadata": {},
   "source": [
    "###  MicroGrad demo"
   ]
  },
  {
   "cell_type": "code",
   "execution_count": 70,
   "metadata": {},
   "outputs": [],
   "source": [
    "import random\n",
    "import numpy as np\n",
    "import matplotlib.pyplot as plt\n",
    "import tensorflow as tf\n",
    "\n",
    "from micrograd.engine import Value\n",
    "from micrograd.nn import Neuron, Layer, MLP\n",
    "\n",
    "%matplotlib inline"
   ]
  },
  {
   "cell_type": "code",
   "execution_count": 71,
   "metadata": {},
   "outputs": [],
   "source": [
    "np.random.seed(1337)\n",
    "random.seed(1337)"
   ]
  },
  {
   "cell_type": "code",
   "execution_count": 72,
   "metadata": {},
   "outputs": [],
   "source": [
    "from graphviz import Digraph\n",
    "\n",
    "def trace(root):\n",
    "    nodes, edges = set(), set()\n",
    "    def build(v):\n",
    "        if v not in nodes:\n",
    "            nodes.add(v)\n",
    "            for child in v._prev:\n",
    "                edges.add((child, v))\n",
    "                build(child)\n",
    "    build(root)\n",
    "    return nodes, edges\n",
    "\n",
    "def draw_dot(root, format='svg', rankdir='LR'):\n",
    "    \"\"\"\n",
    "    format: png | svg | ...\n",
    "    rankdir: TB (top to bottom graph) | LR (left to right)\n",
    "    \"\"\"\n",
    "    assert rankdir in ['LR', 'TB']\n",
    "    nodes, edges = trace(root)\n",
    "    dot = Digraph(format=format, graph_attr={'rankdir': rankdir}) #, node_attr={'rankdir': 'TB'})\n",
    "\n",
    "    for n in nodes:\n",
    "        dot.node(name=str(id(n)), label = \"{ %s | data %.4f | grad %.4f }\" % (n._name, n.data, n.grad), shape='record')\n",
    "        if n._op:\n",
    "            dot.node(name=str(id(n)) + n._op, label=n._op)\n",
    "            dot.edge(str(id(n)) + n._op, str(id(n)))\n",
    "\n",
    "    for n1, n2 in edges:\n",
    "        dot.edge(str(id(n1)), str(id(n2)) + n2._op)\n",
    "\n",
    "    return dot"
   ]
  },
  {
   "cell_type": "code",
   "execution_count": 73,
   "metadata": {},
   "outputs": [],
   "source": [
    "# Загрузка данных MNIST\n",
    "(X_train, Y_train), (X_test, Y_test) = tf.keras.datasets.mnist.load_data()\n",
    "\n",
    "# Преобразование данных в формат float32\n",
    "X_train = X_train.astype('float64') / 255.0 * 2 - 1\n",
    "X_test = X_test.astype('float64') / 255.0 * 2 - 1\n",
    "\n",
    "# Изменение формы данных\n",
    "X_train = X_train.reshape(X_train.shape[0], 784)\n",
    "X_test = X_test.reshape(X_test.shape[0], 784)\n",
    "\n",
    "# One-hot кодирование меток\n",
    "# y_train_oh = tf.keras.utils.to_categorical(y_train, num_classes=10)\n",
    "# y_test_oh = tf.keras.utils.to_categorical(y_test, num_classes=10)\n",
    "\n",
    "# y_train_oh"
   ]
  },
  {
   "cell_type": "code",
   "execution_count": 74,
   "metadata": {},
   "outputs": [
    {
     "data": {
      "image/png": "[encoded data removed]",
      "text/plain": [
       "<Figure size 640x480 with 1 Axes>"
      ]
     },
     "metadata": {},
     "output_type": "display_data"
    }
   ],
   "source": [
    "def draw_some(numbers):\n",
    "    number = numbers[random.randint(0, numbers.shape[0] - 1)]\n",
    "    plt.imshow(number.reshape([28, 28]))\n",
    "\n",
    "draw_some(X_train)"
   ]
  },
  {
   "cell_type": "code",
   "execution_count": 75,
   "metadata": {},
   "outputs": [],
   "source": [
    "from collections import defaultdict\n",
    "\n",
    "ALL_POSITIVE_CLASSES = [0, 1, 2, 3, 4, 5, 6, 7, 8, 9]\n",
    "\n",
    "def oh_encode(classes):\n",
    "    NEG = -1.0\n",
    "    POS = 1.0\n",
    "\n",
    "    noise = np.array([NEG] * len(classes))\n",
    "\n",
    "    oh_enc = defaultdict(lambda: noise)\n",
    "    oh_dec = defaultdict(lambda: None)\n",
    "\n",
    "    for i, cls in enumerate(classes):\n",
    "        cls_vec = np.array([NEG] * len(classes))\n",
    "        cls_vec[i] = POS\n",
    "        oh_enc[cls] = cls_vec\n",
    "        oh_dec[tuple(cls_vec)] = cls\n",
    "\n",
    "    def oh_decoder(values):\n",
    "        # pick the closest vector (is round() OK for that?)\n",
    "        encoded = tuple(np.array([v.data for v in values]).round())\n",
    "        return oh_dec[encoded]\n",
    "\n",
    "    def oh_encoder(Y):\n",
    "        return np.array([oh_enc[cls] for cls in Y])\n",
    "\n",
    "    return oh_encoder, oh_decoder\n",
    "\n",
    "# OH_ENCODER, OH_DECODER = oh_encode(POSITIVE_CLASSES)"
   ]
  },
  {
   "cell_type": "code",
   "execution_count": 76,
   "metadata": {},
   "outputs": [],
   "source": [
    "def get_batch(X, Y_oh, batch_size):\n",
    "    ri = np.random.permutation(X.shape[0])[:batch_size]\n",
    "    X, Y_oh = X[ri], Y_oh[ri]\n",
    "    return X, Y_oh\n",
    "\n",
    "\n",
    "def arr2vals(array, name=''):\n",
    "    return [[Value(el, _name=name) for el in row] for row in array]\n",
    "\n",
    "\n",
    "def batch2vals(batch):\n",
    "    return tuple(map(arr2vals, batch))"
   ]
  },
  {
   "cell_type": "code",
   "execution_count": 77,
   "metadata": {},
   "outputs": [],
   "source": [
    "def calc_accuracy(scores, ground_truths, oh_decoder):\n",
    "    matches = 0\n",
    "    for score, ground_truths in zip(scores, ground_truths):\n",
    "        matches += oh_decoder(score) == oh_decoder(ground_truths)\n",
    "    return matches / len(scores)\n",
    "\n",
    "\n",
    "def one_loss(score, ground_truth):\n",
    "    return sum((s - gt)**2 for s, gt in zip(score, ground_truth))\n",
    "\n",
    "\n",
    "def calc_loss(scores, Y_oh):\n",
    "    return sum(one_loss(xs, ys) for xs, ys in zip(scores, Y_oh))\n",
    "\n",
    "\n",
    "def feed_forward(model, X):\n",
    "    return list(map(model, X))\n",
    "\n",
    "\n",
    "def evaluate(model, X, Y_oh, oh_decoder):\n",
    "    input = arr2vals(X, 'input')\n",
    "    scores = feed_forward(model, input)\n",
    "    expected = arr2vals(Y_oh, 'expected')\n",
    "    return calc_loss(scores, expected), calc_accuracy(scores, expected, oh_decoder)"
   ]
  },
  {
   "cell_type": "markdown",
   "metadata": {},
   "source": [
    "# save/load"
   ]
  },
  {
   "cell_type": "code",
   "execution_count": 78,
   "metadata": {},
   "outputs": [],
   "source": [
    "POSITIVE_NEURONS = 'mnist_parameters_10x785_positives.npy'\n",
    "\n",
    "\n",
    "def save_neurons(file, neurons):\n",
    "    weights = np.array([[p.data for p in n.parameters()] for n in neurons])\n",
    "    np.save(file, weights)\n",
    "\n",
    "\n",
    "def load_neurons(file):\n",
    "    weights = np.load(file)\n",
    "    neurons = [Neuron(nin=weights.shape[1] - 1, act='xspace') for _ in range(weights.shape[0])]\n",
    "    for Wi in range(len(neurons)):\n",
    "        for p, w in zip(neurons[Wi].parameters(), weights[Wi]):\n",
    "            p.data = w\n",
    "            p._lr = 0.0\n",
    "    return neurons"
   ]
  },
  {
   "cell_type": "code",
   "execution_count": 79,
   "metadata": {},
   "outputs": [],
   "source": [
    "def freeze_layers(model, lids: list):\n",
    "    for idx in lids:\n",
    "        for p in model.layers[idx].parameters():\n",
    "            p._lr = 0.0\n",
    "\n",
    "\n",
    "def norm_layers(model):\n",
    "    for layer in model.layers:\n",
    "        for neuron in layer.neurons:\n",
    "            norm = sum(abs(p.data) for p in neuron.parameters())\n",
    "            for p in neuron.parameters():\n",
    "                p.data /= norm"
   ]
  },
  {
   "cell_type": "code",
   "execution_count": 80,
   "metadata": {},
   "outputs": [],
   "source": [
    "# select positives\n",
    "def select(X, Y, selector):\n",
    "    idx = np.where(np.isin(Y, selector))[0]\n",
    "    return X[idx], Y[idx]\n",
    "\n",
    "def select_batch(X, Y, selector, batch_size):\n",
    "    idx = np.where(np.isin(Y, selector))[0]\n",
    "    return get_batch(X[idx], Y[idx], batch_size)\n",
    "\n",
    "def draw_neuron(model, idx):\n",
    "    w = np.array([p.data for p in model.layers[0].neurons[idx].parameters()][:-1])\n",
    "    w = w.reshape([-1, w.shape[0]])\n",
    "    draw_some(w)"
   ]
  },
  {
   "cell_type": "code",
   "execution_count": 81,
   "metadata": {},
   "outputs": [],
   "source": [
    "def fit(model, X, Y_oh, oh_decoder, iterations, q=0.75, esat=1e-9):\n",
    "    total_loss, acc = evaluate(model, X, Y_oh, oh_decoder)\n",
    "    print(f\"start: loss {total_loss.data}, accuracy {acc*100}%\")\n",
    "\n",
    "    for k in range(iterations):\n",
    "        if total_loss.data == 0:\n",
    "            print(f\"step {k}: loss {total_loss.data}, accuracy {acc*100}%\")\n",
    "            return total_loss.data, acc\n",
    "\n",
    "        model.learn_from(total_loss, q)\n",
    "        model.norm()\n",
    "\n",
    "        total_loss, acc = evaluate(model, X, Y_oh, oh_decoder)\n",
    "        print(f\"step {k}: loss {total_loss.data}, accuracy {acc*100}%\")\n",
    "\n",
    "        if total_loss.data <= esat:\n",
    "            print(f\"Early STOP!\")\n",
    "            break\n",
    "\n",
    "    return total_loss.data, acc\n",
    "\n",
    "\n",
    "\n",
    "def get_model_for(classes, batch, iterations, model=None, esat=1e-9):\n",
    "    X, Y = batch\n",
    "\n",
    "    oh_encoder, oh_decoder = oh_encode(classes)\n",
    "    n = len(classes)\n",
    "\n",
    "    Y_oh = oh_encoder(Y)\n",
    "\n",
    "    # initialize a model\n",
    "    if model is None:\n",
    "        model = MLP(\n",
    "            784,\n",
    "            [\n",
    "                (len(classes), 'xspace')\n",
    "            ],\n",
    "            lr=1.0\n",
    "        )\n",
    "\n",
    "    # frozen_positives = [n for c, n in enumerate(load_neurons(POSITIVE_NEURONS)) if c in classes]\n",
    "    # model.layers[0].neurons = frozen_positives + model.layers[0].neurons[:-len(frozen_positives)]\n",
    "\n",
    "    total_loss, acc = fit(model, X, Y_oh, oh_decoder, iterations, esat=esat)\n",
    "\n",
    "    return model, total_loss, acc"
   ]
  },
  {
   "cell_type": "code",
   "execution_count": 82,
   "metadata": {},
   "outputs": [
    {
     "name": "stdout",
     "output_type": "stream",
     "text": [
      "start: loss 480.0, accuracy 21.0%\n",
      "step 0: loss 408.0, accuracy 49.0%\n",
      "step 1: loss 408.0, accuracy 49.0%\n",
      "step 2: loss 408.0, accuracy 49.0%\n",
      "step 3: loss 408.0, accuracy 49.0%\n",
      "step 4: loss 408.0, accuracy 49.0%\n",
      "step 5: loss 408.0, accuracy 49.0%\n",
      "step 6: loss 408.0, accuracy 49.0%\n",
      "step 7: loss 408.0, accuracy 49.0%\n",
      "step 8: loss 408.0, accuracy 49.0%\n",
      "step 9: loss 408.0, accuracy 49.0%\n"
     ]
    }
   ],
   "source": [
    "SELECTED_CLASSES = [0, 1]\n",
    "ITERATIONS = 10\n",
    "BATCH_SIZE = 100\n",
    "BATCH = X, Y = select_batch(X_train, Y_train, SELECTED_CLASSES, BATCH_SIZE)\n",
    "\n",
    "model, total_loss, accuracy = get_model_for(SELECTED_CLASSES, BATCH, ITERATIONS)"
   ]
  },
  {
   "cell_type": "markdown",
   "metadata": {},
   "source": [
    "# DEBUG"
   ]
  },
  {
   "cell_type": "code",
   "execution_count": 99,
   "metadata": {},
   "outputs": [
    {
     "data": {
      "image/png": "[encoded data removed]",
      "text/plain": [
       "<Figure size 640x480 with 1 Axes>"
      ]
     },
     "metadata": {},
     "output_type": "display_data"
    }
   ],
   "source": [
    "draw_neuron(model, 0)"
   ]
  },
  {
   "cell_type": "code",
   "execution_count": 98,
   "metadata": {},
   "outputs": [
    {
     "name": "stdout",
     "output_type": "stream",
     "text": [
      "start: loss 3.2047474274603605e-31, accuracy 100.0%\n",
      "step 0: loss 3.4512664603419266e-31, accuracy 100.0%\n",
      "step 1: loss 3.4512664603419266e-31, accuracy 100.0%\n",
      "step 2: loss 3.2047474274603605e-31, accuracy 100.0%\n",
      "step 3: loss 3.4512664603419266e-31, accuracy 100.0%\n",
      "step 4: loss 3.2047474274603605e-31, accuracy 100.0%\n",
      "step 5: loss 4.190823558986625e-31, accuracy 100.0%\n",
      "step 6: loss 3.4512664603419266e-31, accuracy 100.0%\n",
      "step 7: loss 2.341930812374879e-31, accuracy 100.0%\n",
      "step 8: loss 2.711709361697228e-31, accuracy 100.0%\n",
      "step 9: loss 2.0954117794933126e-31, accuracy 100.0%\n",
      "step 10: loss 2.341930812374879e-31, accuracy 100.0%\n",
      "step 11: loss 2.2186712959340957e-31, accuracy 100.0%\n",
      "step 12: loss 4.807121141190541e-31, accuracy 100.0%\n",
      "step 13: loss 3.2047474274603605e-31, accuracy 100.0%\n",
      "step 14: loss 3.4512664603419266e-31, accuracy 100.0%\n",
      "step 15: loss 4.930380657631324e-31, accuracy 100.0%\n",
      "step 16: loss 3.3280069439011436e-31, accuracy 100.0%\n",
      "step 17: loss 3.0814879110195774e-31, accuracy 100.0%\n",
      "step 18: loss 4.807121141190541e-31, accuracy 100.0%\n",
      "step 19: loss 3.5745259767827097e-31, accuracy 100.0%\n",
      "step 20: loss 3.5745259767827097e-31, accuracy 100.0%\n",
      "step 21: loss 3.697785493223493e-31, accuracy 100.0%\n",
      "step 22: loss 4.314083075427408e-31, accuracy 100.0%\n",
      "step 23: loss 3.697785493223493e-31, accuracy 100.0%\n",
      "step 24: loss 3.0814879110195774e-31, accuracy 100.0%\n",
      "step 25: loss 3.821045009664276e-31, accuracy 100.0%\n",
      "step 26: loss 4.067564042545842e-31, accuracy 100.0%\n",
      "step 27: loss 4.190823558986625e-31, accuracy 100.0%\n",
      "step 28: loss 3.4512664603419266e-31, accuracy 100.0%\n",
      "step 29: loss 4.314083075427408e-31, accuracy 100.0%\n",
      "step 30: loss 4.437342591868191e-31, accuracy 100.0%\n",
      "step 31: loss 4.437342591868191e-31, accuracy 100.0%\n",
      "step 32: loss 4.5606021083089745e-31, accuracy 100.0%\n",
      "step 33: loss 3.697785493223493e-31, accuracy 100.0%\n",
      "step 34: loss 4.683861624749758e-31, accuracy 100.0%\n",
      "step 35: loss 4.067564042545842e-31, accuracy 100.0%\n",
      "step 36: loss 3.3280069439011436e-31, accuracy 100.0%\n",
      "step 37: loss 2.834968878138011e-31, accuracy 100.0%\n",
      "step 38: loss 3.0814879110195774e-31, accuracy 100.0%\n",
      "step 39: loss 3.3280069439011436e-31, accuracy 100.0%\n",
      "step 40: loss 4.5606021083089745e-31, accuracy 100.0%\n",
      "step 41: loss 4.067564042545842e-31, accuracy 100.0%\n",
      "step 42: loss 5.300159206953673e-31, accuracy 100.0%\n",
      "step 43: loss 3.944304526105059e-31, accuracy 100.0%\n",
      "step 44: loss 4.437342591868191e-31, accuracy 100.0%\n",
      "step 45: loss 4.190823558986625e-31, accuracy 100.0%\n",
      "step 46: loss 4.067564042545842e-31, accuracy 100.0%\n",
      "step 47: loss 2.341930812374879e-31, accuracy 100.0%\n",
      "step 48: loss 4.314083075427408e-31, accuracy 100.0%\n",
      "step 49: loss 4.314083075427408e-31, accuracy 100.0%\n",
      "step 50: loss 3.944304526105059e-31, accuracy 100.0%\n",
      "step 51: loss 3.821045009664276e-31, accuracy 100.0%\n",
      "step 52: loss 3.0814879110195774e-31, accuracy 100.0%\n",
      "step 53: loss 3.697785493223493e-31, accuracy 100.0%\n",
      "step 54: loss 4.067564042545842e-31, accuracy 100.0%\n",
      "step 55: loss 2.834968878138011e-31, accuracy 100.0%\n",
      "step 56: loss 3.2047474274603605e-31, accuracy 100.0%\n",
      "step 57: loss 4.067564042545842e-31, accuracy 100.0%\n",
      "step 58: loss 3.697785493223493e-31, accuracy 100.0%\n",
      "step 59: loss 4.314083075427408e-31, accuracy 100.0%\n",
      "step 60: loss 4.190823558986625e-31, accuracy 100.0%\n",
      "step 61: loss 4.437342591868191e-31, accuracy 100.0%\n",
      "step 62: loss 4.807121141190541e-31, accuracy 100.0%\n",
      "step 63: loss 3.4512664603419266e-31, accuracy 100.0%\n",
      "step 64: loss 3.4512664603419266e-31, accuracy 100.0%\n",
      "step 65: loss 4.314083075427408e-31, accuracy 100.0%\n",
      "step 66: loss 4.683861624749758e-31, accuracy 100.0%\n",
      "step 67: loss 3.821045009664276e-31, accuracy 100.0%\n",
      "step 68: loss 4.067564042545842e-31, accuracy 100.0%\n",
      "step 69: loss 2.711709361697228e-31, accuracy 100.0%\n",
      "step 70: loss 3.944304526105059e-31, accuracy 100.0%\n",
      "step 71: loss 4.314083075427408e-31, accuracy 100.0%\n",
      "step 72: loss 4.437342591868191e-31, accuracy 100.0%\n",
      "step 73: loss 4.5606021083089745e-31, accuracy 100.0%\n",
      "step 74: loss 4.067564042545842e-31, accuracy 100.0%\n",
      "step 75: loss 3.2047474274603605e-31, accuracy 100.0%\n",
      "step 76: loss 3.5745259767827097e-31, accuracy 100.0%\n",
      "step 77: loss 5.9164567891575885e-31, accuracy 100.0%\n",
      "step 78: loss 4.190823558986625e-31, accuracy 100.0%\n",
      "step 79: loss 2.465190328815662e-31, accuracy 100.0%\n",
      "step 80: loss 3.944304526105059e-31, accuracy 100.0%\n",
      "step 81: loss 4.437342591868191e-31, accuracy 100.0%\n",
      "step 82: loss 5.17689969051289e-31, accuracy 100.0%\n",
      "step 83: loss 2.834968878138011e-31, accuracy 100.0%\n",
      "step 84: loss 5.300159206953673e-31, accuracy 100.0%\n",
      "step 85: loss 3.944304526105059e-31, accuracy 100.0%\n",
      "step 86: loss 3.944304526105059e-31, accuracy 100.0%\n",
      "step 87: loss 3.821045009664276e-31, accuracy 100.0%\n",
      "step 88: loss 3.697785493223493e-31, accuracy 100.0%\n",
      "step 89: loss 3.2047474274603605e-31, accuracy 100.0%\n",
      "step 90: loss 3.4512664603419266e-31, accuracy 100.0%\n",
      "step 91: loss 3.821045009664276e-31, accuracy 100.0%\n",
      "step 92: loss 4.190823558986625e-31, accuracy 100.0%\n",
      "step 93: loss 4.807121141190541e-31, accuracy 100.0%\n",
      "step 94: loss 3.944304526105059e-31, accuracy 100.0%\n",
      "step 95: loss 4.5606021083089745e-31, accuracy 100.0%\n",
      "step 96: loss 3.821045009664276e-31, accuracy 100.0%\n",
      "step 97: loss 2.588449845256445e-31, accuracy 100.0%\n",
      "step 98: loss 3.3280069439011436e-31, accuracy 100.0%\n",
      "step 99: loss 3.5745259767827097e-31, accuracy 100.0%\n"
     ]
    },
    {
     "data": {
      "image/png": "[encoded data removed]",
      "text/plain": [
       "<Figure size 640x480 with 1 Axes>"
      ]
     },
     "metadata": {},
     "output_type": "display_data"
    }
   ],
   "source": [
    "model, total_loss, accuracy = get_model_for(SELECTED_CLASSES, BATCH, 100, model, esat=0.0)\n",
    "draw_neuron(model, -1)"
   ]
  },
  {
   "cell_type": "code",
   "execution_count": 97,
   "metadata": {},
   "outputs": [
    {
     "data": {
      "text/html": [
       "<div>\n",
       "<style scoped>\n",
       "    .dataframe tbody tr th:only-of-type {\n",
       "        vertical-align: middle;\n",
       "    }\n",
       "\n",
       "    .dataframe tbody tr th {\n",
       "        vertical-align: top;\n",
       "    }\n",
       "\n",
       "    .dataframe thead th {\n",
       "        text-align: right;\n",
       "    }\n",
       "</style>\n",
       "<table border=\"1\" class=\"dataframe\">\n",
       "  <thead>\n",
       "    <tr style=\"text-align: right;\">\n",
       "      <th></th>\n",
       "      <th>0</th>\n",
       "    </tr>\n",
       "  </thead>\n",
       "  <tbody>\n",
       "    <tr>\n",
       "      <th>count</th>\n",
       "      <td>785.000000</td>\n",
       "    </tr>\n",
       "    <tr>\n",
       "      <th>mean</th>\n",
       "      <td>0.157399</td>\n",
       "    </tr>\n",
       "    <tr>\n",
       "      <th>std</th>\n",
       "      <td>1.000638</td>\n",
       "    </tr>\n",
       "    <tr>\n",
       "      <th>min</th>\n",
       "      <td>-3.548872</td>\n",
       "    </tr>\n",
       "    <tr>\n",
       "      <th>25%</th>\n",
       "      <td>-0.236754</td>\n",
       "    </tr>\n",
       "    <tr>\n",
       "      <th>50%</th>\n",
       "      <td>-0.105589</td>\n",
       "    </tr>\n",
       "    <tr>\n",
       "      <th>75%</th>\n",
       "      <td>0.406190</td>\n",
       "    </tr>\n",
       "    <tr>\n",
       "      <th>max</th>\n",
       "      <td>3.009893</td>\n",
       "    </tr>\n",
       "  </tbody>\n",
       "</table>\n",
       "</div>"
      ],
      "text/plain": [
       "                0\n",
       "count  785.000000\n",
       "mean     0.157399\n",
       "std      1.000638\n",
       "min     -3.548872\n",
       "25%     -0.236754\n",
       "50%     -0.105589\n",
       "75%      0.406190\n",
       "max      3.009893"
      ]
     },
     "execution_count": 97,
     "metadata": {},
     "output_type": "execute_result"
    }
   ],
   "source": [
    "import pandas as pd\n",
    "\n",
    "numbers = [p.data for p in model.layers[0].neurons[0].parameters()]\n",
    "numbers.sort()\n",
    "\n",
    "pd.DataFrame(numbers).describe()"
   ]
  }
 ],
 "metadata": {
  "kernelspec": {
   "display_name": "Python 3",
   "language": "python",
   "name": "python3"
  },
  "language_info": {
   "codemirror_mode": {
    "name": "ipython",
    "version": 3
   },
   "file_extension": ".py",
   "mimetype": "text/x-python",
   "name": "python",
   "nbconvert_exporter": "python",
   "pygments_lexer": "ipython3",
   "version": "3.11.7"
  }
 },
 "nbformat": 4,
 "nbformat_minor": 2
}
