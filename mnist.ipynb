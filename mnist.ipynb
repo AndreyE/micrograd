{
 "cells": [
  {
   "cell_type": "markdown",
   "metadata": {},
   "source": [
    "###  MicroGrad demo"
   ]
  },
  {
   "cell_type": "code",
   "execution_count": 31,
   "metadata": {},
   "outputs": [],
   "source": [
    "import random\n",
    "import numpy as np\n",
    "import matplotlib.pyplot as plt\n",
    "\n",
    "\n",
    "from micrograd.engine import Value\n",
    "from micrograd.nn import Neuron, Layer, MLP\n",
    "\n",
    "%matplotlib inline"
   ]
  },
  {
   "cell_type": "code",
   "execution_count": 32,
   "metadata": {},
   "outputs": [],
   "source": [
    "np.random.seed(1337)\n",
    "random.seed(1337)"
   ]
  },
  {
   "cell_type": "code",
   "execution_count": 33,
   "metadata": {},
   "outputs": [],
   "source": [
    "from graphviz import Digraph\n",
    "\n",
    "def trace(root):\n",
    "    nodes, edges = set(), set()\n",
    "    def build(v):\n",
    "        if v not in nodes:\n",
    "            nodes.add(v)\n",
    "            for child in v._prev:\n",
    "                edges.add((child, v))\n",
    "                build(child)\n",
    "    build(root)\n",
    "    return nodes, edges\n",
    "\n",
    "def draw_dot(root, format='svg', rankdir='LR'):\n",
    "    \"\"\"\n",
    "    format: png | svg | ...\n",
    "    rankdir: TB (top to bottom graph) | LR (left to right)\n",
    "    \"\"\"\n",
    "    assert rankdir in ['LR', 'TB']\n",
    "    nodes, edges = trace(root)\n",
    "    dot = Digraph(format=format, graph_attr={'rankdir': rankdir}) #, node_attr={'rankdir': 'TB'})\n",
    "\n",
    "    for n in nodes:\n",
    "        dot.node(name=str(id(n)), label = \"{ %s | data %.4f | grad %.4f }\" % (n._name, n.data, n.grad), shape='record')\n",
    "        if n._op:\n",
    "            dot.node(name=str(id(n)) + n._op, label=n._op)\n",
    "            dot.edge(str(id(n)) + n._op, str(id(n)))\n",
    "\n",
    "    for n1, n2 in edges:\n",
    "        dot.edge(str(id(n1)), str(id(n2)) + n2._op)\n",
    "\n",
    "    return dot"
   ]
  },
  {
   "cell_type": "markdown",
   "metadata": {},
   "source": [
    "# Get MNIST dataset"
   ]
  },
  {
   "cell_type": "code",
   "execution_count": 34,
   "metadata": {},
   "outputs": [],
   "source": [
    "from torchvision import datasets as dts\n",
    "\n",
    "MNIST_DATASET = dts.MNIST(root = 'data', train = True, download=True)\n",
    "\n",
    "X_train = MNIST_DATASET.data / 255.0 # * 2 - 1\n",
    "X_train = X_train.reshape(X_train.shape[0], 784)\n",
    "\n",
    "Y_train = MNIST_DATASET.targets"
   ]
  },
  {
   "cell_type": "code",
   "execution_count": 35,
   "metadata": {},
   "outputs": [
    {
     "data": {
      "image/png": "[encoded data removed]",
      "text/plain": [
       "<Figure size 640x480 with 1 Axes>"
      ]
     },
     "metadata": {},
     "output_type": "display_data"
    }
   ],
   "source": [
    "def draw_some(numbers):\n",
    "    number = numbers[random.randint(0, numbers.shape[0] - 1)]\n",
    "    plt.imshow(number.reshape([28, 28]))\n",
    "\n",
    "draw_some(X_train)"
   ]
  },
  {
   "cell_type": "code",
   "execution_count": 36,
   "metadata": {},
   "outputs": [
    {
     "data": {
      "text/plain": [
       "tensor([[ 1., -1., -1., -1., -1., -1., -1., -1., -1., -1.],\n",
       "        [-1.,  1., -1., -1., -1., -1., -1., -1., -1., -1.],\n",
       "        [-1., -1.,  1., -1., -1., -1., -1., -1., -1., -1.],\n",
       "        [-1., -1., -1.,  1., -1., -1., -1., -1., -1., -1.],\n",
       "        [-1., -1., -1., -1.,  1., -1., -1., -1., -1., -1.],\n",
       "        [-1., -1., -1., -1., -1.,  1., -1., -1., -1., -1.],\n",
       "        [-1., -1., -1., -1., -1., -1.,  1., -1., -1., -1.],\n",
       "        [-1., -1., -1., -1., -1., -1., -1.,  1., -1., -1.],\n",
       "        [-1., -1., -1., -1., -1., -1., -1., -1.,  1., -1.],\n",
       "        [-1., -1., -1., -1., -1., -1., -1., -1., -1.,  1.]])"
      ]
     },
     "execution_count": 36,
     "metadata": {},
     "output_type": "execute_result"
    }
   ],
   "source": [
    "from collections import defaultdict\n",
    "import torch\n",
    "\n",
    "ALL_POSITIVE_CLASSES = torch.tensor([0, 1, 2, 3, 4, 5, 6, 7, 8, 9])\n",
    "\n",
    "NEG = -1.0\n",
    "VOID = 0.0\n",
    "POS = 1.0\n",
    "\n",
    "def oh_encode(classes: torch.tensor):\n",
    "    if isinstance(classes, list):\n",
    "        classes = torch.tensor(classes)\n",
    "\n",
    "    assert classes.dim() == 1\n",
    "    DIM = classes.shape[0]\n",
    "\n",
    "    void = torch.tensor([VOID] * len(classes))\n",
    "\n",
    "    oh_enc = defaultdict(lambda: void)\n",
    "    oh_dec = defaultdict(lambda: None)\n",
    "\n",
    "    for i, cls in enumerate(classes):\n",
    "        cls_vec = torch.tensor([NEG] * classes.shape[0])\n",
    "        cls_vec[i] = POS\n",
    "        oh_enc[cls.item()] = cls_vec\n",
    "        oh_dec[tuple(cls_vec)] = cls\n",
    "\n",
    "    def oh_decoder(values):\n",
    "        # pick the closest vector (is round() OK for that?)\n",
    "        encoded = np.array([v.data for v in values]).round()\n",
    "        assert encoded.shape[-1] == DIM, f'unfit OH encoding {encoded.shape[-1]} != {DIM} (targets dimention)'\n",
    "        return oh_dec[tuple(encoded)]\n",
    "\n",
    "    def oh_encoder(Y):\n",
    "        return torch.vstack([oh_enc[cls.item()] for cls in Y])\n",
    "\n",
    "    return oh_encoder, oh_decoder\n",
    "\n",
    "oh_encode(ALL_POSITIVE_CLASSES)[0](ALL_POSITIVE_CLASSES)"
   ]
  },
  {
   "cell_type": "code",
   "execution_count": 37,
   "metadata": {},
   "outputs": [],
   "source": [
    "import torch\n",
    "\n",
    "\n",
    "def append_noise(X, noise_size, min=-1.0, max=1.0):\n",
    "    noise_shape = torch.Size([noise_size]) + X.shape[1:]\n",
    "    noise_tensor = torch.empty(noise_shape).uniform_(min, max)\n",
    "    return torch.concat([X, noise_tensor])\n",
    "\n",
    "\n",
    "def append_void(X, void_size, void=-1.0):\n",
    "    void_shape = torch.Size([void_size]) + X.shape[1:]\n",
    "    void_tensor = torch.empty(void_shape).fill_(void)\n",
    "    return torch.concat([X, void_tensor])\n",
    "\n",
    "\n",
    "def get_batch(X, Y, batch_size, noise_ratio=0.0, void_ratio=0.0, void_class=-1):\n",
    "    ri = np.random.permutation(X.shape[0])[:batch_size]\n",
    "    X, Y = X[ri], Y[ri]\n",
    "\n",
    "    if noise_ratio > 0.0:\n",
    "        noise_size = round(batch_size * noise_ratio)\n",
    "        X = append_noise(X, noise_size)\n",
    "        Y = torch.concat([Y, torch.tensor([void_class] * noise_size)])\n",
    "\n",
    "    if void_ratio > 0.0:\n",
    "        void_size = round(batch_size * void_ratio)\n",
    "        X = append_void(X, void_size, void=np.random.uniform(0, 1))\n",
    "        Y = torch.concat([Y, torch.tensor([void_class] * void_size)])\n",
    "\n",
    "    return X, Y\n",
    "\n",
    "\n",
    "def arr2vals(array, name=''):\n",
    "    return [[Value(el, _name=name) for el in row] for row in array]\n",
    "\n",
    "\n",
    "def batch2vals(batch):\n",
    "    return tuple(map(arr2vals, batch))\n"
   ]
  },
  {
   "cell_type": "code",
   "execution_count": 38,
   "metadata": {},
   "outputs": [],
   "source": [
    "def calc_accuracy(scores, ground_truths, oh_decoder):\n",
    "    matches = 0\n",
    "    for score, ground_truths in zip(scores, ground_truths):\n",
    "        matches += oh_decoder(score) == oh_decoder(ground_truths)\n",
    "    return matches / len(scores)\n",
    "\n",
    "\n",
    "def one_loss(score, ground_truth):\n",
    "    return sum(((s - gt) / 2) ** 2 for s, gt in zip(score, ground_truth) if gt.data != VOID)\n",
    "\n",
    "\n",
    "def calc_loss(scores, targets):\n",
    "    assert len(scores) == len(targets)\n",
    "    return sum(one_loss(xs, ts) for xs, ts in zip(scores, targets))\n",
    "\n",
    "\n",
    "def feed_forward(model, X):\n",
    "    return list(map(model, X))\n",
    "\n",
    "\n",
    "def evaluate(model, X, Y_oh, oh_decoder):\n",
    "    input = arr2vals(X, 'input')\n",
    "    scores = feed_forward(model, input)\n",
    "    targets = arr2vals(Y_oh, 'expected')\n",
    "    return calc_loss(scores, targets), calc_accuracy(scores, targets, oh_decoder), scores, targets"
   ]
  },
  {
   "cell_type": "markdown",
   "metadata": {},
   "source": [
    "# save/load"
   ]
  },
  {
   "cell_type": "code",
   "execution_count": 39,
   "metadata": {},
   "outputs": [],
   "source": [
    "POSITIVE_NEURONS = 'mnist_parameters_10x785_positives.npy'\n",
    "\n",
    "\n",
    "def save_neurons(file, neurons):\n",
    "    weights = np.array([[p.data for p in n.parameters()] for n in neurons])\n",
    "    np.save(file, weights)\n",
    "\n",
    "\n",
    "def load_neurons(file):\n",
    "    weights = np.load(file)\n",
    "    neurons = [Neuron(nin=weights.shape[1] - 1, act='xspace') for _ in range(weights.shape[0])]\n",
    "    for Wi in range(len(neurons)):\n",
    "        for p, w in zip(neurons[Wi].parameters(), weights[Wi]):\n",
    "            p.data = w\n",
    "            p._lr = 0.0\n",
    "    return neurons"
   ]
  },
  {
   "cell_type": "code",
   "execution_count": 51,
   "metadata": {},
   "outputs": [],
   "source": [
    "import matplotlib.pyplot as plt\n",
    "\n",
    "\n",
    "def select(X, Y, selector):\n",
    "    idx = np.where(np.isin(Y, selector))[0]\n",
    "    return X[idx], Y[idx]\n",
    "\n",
    "\n",
    "def select_batch(X, Y, selector, batch_size, noise_ratio=0.0, void_ratio=0.0, void_class=torch.nan):\n",
    "    idx = np.where(np.isin(Y, selector))[0]\n",
    "    return get_batch(X[idx], Y[idx], batch_size, noise_ratio, void_ratio, void_class)\n",
    "\n",
    "\n",
    "def draw_neuron(model, neuron, layer=0):\n",
    "    w = np.array([p.data for p in model.layers[layer].neurons[neuron].parameters()][:-1])\n",
    "    w = w.reshape([-1, w.shape[0]])\n",
    "    draw_some(w)\n",
    "\n",
    "\n",
    "def one_neuron_histo(neuron, bins=100):\n",
    "    array = np.array([p.data for p in neuron.parameters()])\n",
    "    plt.hist(array, bins=bins, edgecolor='black')\n",
    "\n",
    "    plt.title('Гистограмма нейрона')\n",
    "    plt.xlabel('Вес')\n",
    "    plt.ylabel('Частота')\n",
    "\n",
    "    plt.show()\n",
    "\n",
    "\n",
    "def draw_all_neurons(layer):\n",
    "    fig, axes = plt.subplots(1, len(layer.neurons), sharey=True)\n",
    "    for neuron, axe in zip(layer.neurons, axes):\n",
    "        array = np.array([p.data for p in neuron.parameters()][:-1])\n",
    "        array = array.reshape([-1, array.shape[0]])\n",
    "        axe.imshow(array.reshape([28, 28]))\n",
    "    fig.suptitle(\"Нейроны\")\n",
    "\n",
    "\n",
    "def all_neurons_histo(layer, bins=100):\n",
    "    fig, axes = plt.subplots(1, len(layer.neurons), sharey=True)\n",
    "    for neuron, axe in zip(layer.neurons, axes):\n",
    "        array = np.array([p.data for p in neuron.parameters()])\n",
    "        axe.hist(array, bins=bins, edgecolor='black')\n",
    "\n",
    "    fig.suptitle('Гистограмма нейронов')\n",
    "    fig.supxlabel('Вес')\n",
    "    fig.supylabel('Частота')\n",
    "\n",
    "    plt.show()"
   ]
  },
  {
   "cell_type": "code",
   "execution_count": 41,
   "metadata": {},
   "outputs": [],
   "source": [
    "import math\n",
    "\n",
    "\n",
    "def fit(model, X, Y_oh, oh_decoder, iterations, q=0.75, esat=1e-9):\n",
    "    total_loss, acc, scores, targets = evaluate(model, X, Y_oh, oh_decoder)\n",
    "    print(f\"start: loss {total_loss.data}, accuracy {acc*100}%\")\n",
    "\n",
    "    for k in range(iterations):\n",
    "        if total_loss.data == 0:\n",
    "            print(f\"step {k}: loss {total_loss.data}, accuracy {acc*100}%\")\n",
    "            return total_loss.data, acc, scores, targets\n",
    "\n",
    "        model.learn_from(total_loss, q)\n",
    "        model.norm()\n",
    "\n",
    "        total_loss, acc, scores, targets = evaluate(model, X, Y_oh, oh_decoder)\n",
    "        print(f\"step {k}: loss {total_loss.data}, accuracy {acc*100}%\")\n",
    "\n",
    "        if total_loss.data <= esat:\n",
    "            print(f\"Early STOP!\")\n",
    "            break\n",
    "\n",
    "    return total_loss, acc, scores, targets\n",
    "\n",
    "\n",
    "\n",
    "def get_model_for(classes, batch, iterations, model=None, q=0.75, esat=1e-9, with_frozen_neurons=False):\n",
    "    X, Y = batch\n",
    "    DIM = len(classes)\n",
    "    LAYER_0_SIZE = math.comb(DIM, 2) # + (DIM if not with_frozen_neurons else 0)\n",
    "\n",
    "    oh_encoder, oh_decoder = oh_encode(classes)\n",
    "    oh_decoder([Value(0)] * DIM)\n",
    "\n",
    "    Y_oh = oh_encoder(Y)\n",
    "\n",
    "    # initialize a model\n",
    "    if model is None:\n",
    "        model = MLP(\n",
    "            784,\n",
    "            [\n",
    "                # (LAYER_0_SIZE, 'xspace'),\n",
    "                (DIM, 'xspace')\n",
    "            ],\n",
    "            lr=1.0,\n",
    "            init=lambda: -1.0\n",
    "        )\n",
    "\n",
    "    if with_frozen_neurons:\n",
    "        frozen_positives = [n for c, n in enumerate(load_neurons(POSITIVE_NEURONS)) if c in classes]\n",
    "        model.layers[0].neurons = model.layers[0].neurons + frozen_positives\n",
    "\n",
    "    total_loss, acc, scores, targets = fit(model, X, Y_oh, oh_decoder, iterations, esat=esat, q=q)\n",
    "\n",
    "    return (model, total_loss, acc), (scores, targets)"
   ]
  },
  {
   "cell_type": "code",
   "execution_count": 42,
   "metadata": {},
   "outputs": [
    {
     "name": "stdout",
     "output_type": "stream",
     "text": [
      "start: loss 10.0, accuracy 100.0%\n",
      "step 0: loss 10.0, accuracy 100.0%\n"
     ]
    },
    {
     "data": {
      "image/png": "[encoded data removed]",
      "text/plain": [
       "<Figure size 640x480 with 1 Axes>"
      ]
     },
     "metadata": {},
     "output_type": "display_data"
    }
   ],
   "source": [
    "SELECTED_CLASSES = [0, 1]\n",
    "NOISE_RATIO = 0.1\n",
    "VOID_RATIO = 1.0\n",
    "ITERATIONS = 1\n",
    "BATCH_SIZE = 10\n",
    "BATCH = select_batch(X_train, Y_train, SELECTED_CLASSES, BATCH_SIZE, void_ratio=VOID_RATIO)\n",
    "X, Y = BATCH\n",
    "\n",
    "(model, total_loss, accuracy), (scores, targets) = get_model_for(SELECTED_CLASSES, BATCH, ITERATIONS, q=0.5)\n",
    "draw_neuron(model, 0)"
   ]
  },
  {
   "cell_type": "markdown",
   "metadata": {},
   "source": [
    "# DEBUG"
   ]
  },
  {
   "cell_type": "code",
   "execution_count": 74,
   "metadata": {},
   "outputs": [
    {
     "data": {
      "image/png": "[encoded data removed]",
      "text/plain": [
       "<Figure size 640x480 with 2 Axes>"
      ]
     },
     "metadata": {},
     "output_type": "display_data"
    },
    {
     "data": {
      "image/png": "[encoded data removed]",
      "text/plain": [
       "<Figure size 640x480 with 2 Axes>"
      ]
     },
     "metadata": {},
     "output_type": "display_data"
    }
   ],
   "source": [
    "classes = [0, 1]\n",
    "\n",
    "x, y = select_batch(X_train, Y_train, classes, 10, void_ratio=0)\n",
    "oh_encoder, oh_decoder = oh_encode(classes)\n",
    "y_oh = oh_encoder(y)\n",
    "\n",
    "model = MLP(\n",
    "    784,\n",
    "    [\n",
    "        (len(classes), 'xspace')\n",
    "    ],\n",
    "    lr=1.0,\n",
    "    # init=lambda: -1.0\n",
    ")\n",
    "\n",
    "def loss():\n",
    "    input = arr2vals(x, 'input')\n",
    "    scores = feed_forward(model, input)\n",
    "    targets = arr2vals(y_oh, 'target')\n",
    "\n",
    "    total_loss = calc_loss(scores, targets)\n",
    "    acc = calc_accuracy(scores, targets, oh_decoder)\n",
    "    return total_loss, acc * 100\n",
    "\n",
    "def neuron_histo(neuron, bins=100):\n",
    "    array = np.array([p.data for p in neuron.parameters()])\n",
    "    plt.hist(array, bins=bins, edgecolor='black')\n",
    "\n",
    "    plt.title('Гистограмма нейрона')\n",
    "    plt.xlabel('Вес')\n",
    "    plt.ylabel('Частота')\n",
    "\n",
    "    plt.show()\n",
    "\n",
    "LAYER = model.layers[0]\n",
    "all_neurons_histo(LAYER)\n",
    "draw_all_neurons(LAYER)"
   ]
  },
  {
   "cell_type": "code",
   "execution_count": 80,
   "metadata": {},
   "outputs": [
    {
     "name": "stdout",
     "output_type": "stream",
     "text": [
      "start: loss 9.0, accuracy 100.0%\n"
     ]
    },
    {
     "data": {
      "image/png": "[encoded data removed]",
      "text/plain": [
       "<Figure size 640x480 with 2 Axes>"
      ]
     },
     "metadata": {},
     "output_type": "display_data"
    },
    {
     "data": {
      "image/png": "[encoded data removed]",
      "text/plain": [
       "<Figure size 640x480 with 2 Axes>"
      ]
     },
     "metadata": {},
     "output_type": "display_data"
    }
   ],
   "source": [
    "total_loss = None\n",
    "\n",
    "def fit(total_loss):\n",
    "    if total_loss is None:\n",
    "        total_loss, _ = loss()\n",
    "\n",
    "    total_loss.backward()\n",
    "    model.learn_from(total_loss, q=1.0)\n",
    "    model.norm()\n",
    "\n",
    "    return loss()\n",
    "\n",
    "total_loss, acc = fit(total_loss)\n",
    "print(f\"start: loss {total_loss.data}, accuracy {acc}%\")\n",
    "\n",
    "LAYER = model.layers[0]\n",
    "all_neurons_histo(LAYER)\n",
    "draw_all_neurons(LAYER)"
   ]
  },
  {
   "cell_type": "code",
   "execution_count": 78,
   "metadata": {},
   "outputs": [
    {
     "data": {
      "text/html": [
       "<div>\n",
       "<style scoped>\n",
       "    .dataframe tbody tr th:only-of-type {\n",
       "        vertical-align: middle;\n",
       "    }\n",
       "\n",
       "    .dataframe tbody tr th {\n",
       "        vertical-align: top;\n",
       "    }\n",
       "\n",
       "    .dataframe thead th {\n",
       "        text-align: right;\n",
       "    }\n",
       "</style>\n",
       "<table border=\"1\" class=\"dataframe\">\n",
       "  <thead>\n",
       "    <tr style=\"text-align: right;\">\n",
       "      <th></th>\n",
       "      <th>0</th>\n",
       "    </tr>\n",
       "  </thead>\n",
       "  <tbody>\n",
       "    <tr>\n",
       "      <th>count</th>\n",
       "      <td>785.000000</td>\n",
       "    </tr>\n",
       "    <tr>\n",
       "      <th>mean</th>\n",
       "      <td>143.800043</td>\n",
       "    </tr>\n",
       "    <tr>\n",
       "      <th>std</th>\n",
       "      <td>372.810573</td>\n",
       "    </tr>\n",
       "    <tr>\n",
       "      <th>min</th>\n",
       "      <td>-313.849637</td>\n",
       "    </tr>\n",
       "    <tr>\n",
       "      <th>25%</th>\n",
       "      <td>-0.524994</td>\n",
       "    </tr>\n",
       "    <tr>\n",
       "      <th>50%</th>\n",
       "      <td>0.151533</td>\n",
       "    </tr>\n",
       "    <tr>\n",
       "      <th>75%</th>\n",
       "      <td>0.822721</td>\n",
       "    </tr>\n",
       "    <tr>\n",
       "      <th>max</th>\n",
       "      <td>1802.508908</td>\n",
       "    </tr>\n",
       "  </tbody>\n",
       "</table>\n",
       "</div>"
      ],
      "text/plain": [
       "                 0\n",
       "count   785.000000\n",
       "mean    143.800043\n",
       "std     372.810573\n",
       "min    -313.849637\n",
       "25%      -0.524994\n",
       "50%       0.151533\n",
       "75%       0.822721\n",
       "max    1802.508908"
      ]
     },
     "execution_count": 78,
     "metadata": {},
     "output_type": "execute_result"
    }
   ],
   "source": [
    "import pandas as pd\n",
    "\n",
    "numbers = [p.data for p in model.layers[0].neurons[0].parameters()]\n",
    "numbers.sort()\n",
    "\n",
    "pd.DataFrame(numbers).describe()"
   ]
  }
 ],
 "metadata": {
  "kernelspec": {
   "display_name": "Python 3",
   "language": "python",
   "name": "python3"
  },
  "language_info": {
   "codemirror_mode": {
    "name": "ipython",
    "version": 3
   },
   "file_extension": ".py",
   "mimetype": "text/x-python",
   "name": "python",
   "nbconvert_exporter": "python",
   "pygments_lexer": "ipython3",
   "version": "3.11.0"
  }
 },
 "nbformat": 4,
 "nbformat_minor": 2
}
