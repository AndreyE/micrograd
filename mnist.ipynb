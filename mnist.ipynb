{
 "cells": [
  {
   "cell_type": "markdown",
   "metadata": {},
   "source": [
    "###  MicroGrad demo"
   ]
  },
  {
   "cell_type": "code",
   "execution_count": 312,
   "metadata": {},
   "outputs": [],
   "source": [
    "import random\n",
    "import numpy as np\n",
    "import matplotlib.pyplot as plt\n",
    "import tensorflow as tf\n",
    "\n",
    "from micrograd.engine import Value\n",
    "from micrograd.nn import Neuron, Layer, MLP\n",
    "\n",
    "%matplotlib inline"
   ]
  },
  {
   "cell_type": "code",
   "execution_count": 313,
   "metadata": {},
   "outputs": [],
   "source": [
    "np.random.seed(1337)\n",
    "random.seed(1337)"
   ]
  },
  {
   "cell_type": "code",
   "execution_count": 314,
   "metadata": {},
   "outputs": [],
   "source": [
    "from graphviz import Digraph\n",
    "\n",
    "def trace(root):\n",
    "    nodes, edges = set(), set()\n",
    "    def build(v):\n",
    "        if v not in nodes:\n",
    "            nodes.add(v)\n",
    "            for child in v._prev:\n",
    "                edges.add((child, v))\n",
    "                build(child)\n",
    "    build(root)\n",
    "    return nodes, edges\n",
    "\n",
    "def draw_dot(root, format='svg', rankdir='LR'):\n",
    "    \"\"\"\n",
    "    format: png | svg | ...\n",
    "    rankdir: TB (top to bottom graph) | LR (left to right)\n",
    "    \"\"\"\n",
    "    assert rankdir in ['LR', 'TB']\n",
    "    nodes, edges = trace(root)\n",
    "    dot = Digraph(format=format, graph_attr={'rankdir': rankdir}) #, node_attr={'rankdir': 'TB'})\n",
    "\n",
    "    for n in nodes:\n",
    "        dot.node(name=str(id(n)), label = \"{ %s | data %.4f | grad %.4f }\" % (n._name, n.data, n.grad), shape='record')\n",
    "        if n._op:\n",
    "            dot.node(name=str(id(n)) + n._op, label=n._op)\n",
    "            dot.edge(str(id(n)) + n._op, str(id(n)))\n",
    "\n",
    "    for n1, n2 in edges:\n",
    "        dot.edge(str(id(n1)), str(id(n2)) + n2._op)\n",
    "\n",
    "    return dot"
   ]
  },
  {
   "cell_type": "code",
   "execution_count": 315,
   "metadata": {},
   "outputs": [],
   "source": [
    "# Загрузка данных MNIST\n",
    "(X_train, Y_train), (X_test, Y_test) = tf.keras.datasets.mnist.load_data()\n",
    "\n",
    "# Преобразование данных в формат float32\n",
    "X_train = X_train.astype('float64') / 255.0 * 2 - 1\n",
    "X_test = X_test.astype('float64') / 255.0 * 2 - 1\n",
    "\n",
    "# Изменение формы данных\n",
    "X_train = X_train.reshape(X_train.shape[0], 784)\n",
    "X_test = X_test.reshape(X_test.shape[0], 784)\n",
    "\n",
    "# One-hot кодирование меток\n",
    "# y_train_oh = tf.keras.utils.to_categorical(y_train, num_classes=10)\n",
    "# y_test_oh = tf.keras.utils.to_categorical(y_test, num_classes=10)\n",
    "\n",
    "# y_train_oh"
   ]
  },
  {
   "cell_type": "code",
   "execution_count": 316,
   "metadata": {},
   "outputs": [
    {
     "data": {
      "image/png": "[encoded data removed]",
      "text/plain": [
       "<Figure size 640x480 with 1 Axes>"
      ]
     },
     "metadata": {},
     "output_type": "display_data"
    }
   ],
   "source": [
    "def draw_some(numbers):\n",
    "    number = numbers[random.randint(0, numbers.shape[0] - 1)]\n",
    "    plt.imshow(number.reshape([28, 28]))\n",
    "\n",
    "draw_some(X_train)"
   ]
  },
  {
   "cell_type": "code",
   "execution_count": 317,
   "metadata": {},
   "outputs": [],
   "source": [
    "from collections import defaultdict\n",
    "\n",
    "POSITIVE_CLASSES = [0, 1, 2, 3, 4, 5, 6, 7, 8, 9]\n",
    "\n",
    "def oh_encode(classes):\n",
    "    NEG = -1.0\n",
    "    POS = 1.0\n",
    "\n",
    "    noise = np.array([NEG] * len(classes))\n",
    "\n",
    "    oh_enc = defaultdict(lambda: noise)\n",
    "    oh_dec = defaultdict(lambda: None)\n",
    "\n",
    "    for i, cls in enumerate(classes):\n",
    "        cls_vec = np.array([NEG] * len(classes))\n",
    "        cls_vec[i] = POS\n",
    "        oh_enc[cls] = cls_vec\n",
    "        oh_dec[tuple(cls_vec)] = cls\n",
    "\n",
    "    def oh_decoder(values):\n",
    "        # pick the closest vector (is round() OK for that?)\n",
    "        encoded = tuple(np.array([v.data for v in values]).round())\n",
    "        return oh_dec[encoded]\n",
    "\n",
    "    def oh_encoder(Y):\n",
    "        return np.array([oh_enc[cls] for cls in Y])\n",
    "\n",
    "    return oh_encoder, oh_decoder\n",
    "\n",
    "OH_ENCODER, OH_DECODER = oh_encode(POSITIVE_CLASSES)"
   ]
  },
  {
   "cell_type": "code",
   "execution_count": 318,
   "metadata": {},
   "outputs": [],
   "source": [
    "def get_batch(X, Y_oh, batch_size):\n",
    "    ri = np.random.permutation(X.shape[0])[:batch_size]\n",
    "    X, Y_oh = X[ri], Y_oh[ri]\n",
    "    return X, Y_oh\n",
    "\n",
    "\n",
    "def arr2vals(array, name=''):\n",
    "    return [[Value(el, _name=name) for el in row] for row in array]\n",
    "\n",
    "\n",
    "def batch2vals(batch):\n",
    "    return tuple(map(arr2vals, batch))"
   ]
  },
  {
   "cell_type": "code",
   "execution_count": 319,
   "metadata": {},
   "outputs": [],
   "source": [
    "def calc_accuracy(scores, ground_truths):\n",
    "    matches = 0\n",
    "    for score, ground_truths in zip(scores, ground_truths):\n",
    "        matches += OH_DECODER(score) == OH_DECODER(ground_truths)\n",
    "\n",
    "    return matches / len(scores)\n",
    "\n",
    "\n",
    "def one_loss(score, ground_truth):\n",
    "    return sum((s - gt)**2 for s, gt in zip(score, ground_truth))\n",
    "\n",
    "\n",
    "def calc_loss(scores, Y_oh):\n",
    "    return sum(one_loss(xs, ys) for xs, ys in zip(scores, Y_oh))\n",
    "\n",
    "\n",
    "def feed_forward(model, X):\n",
    "    return list(map(model, X))\n",
    "\n",
    "\n",
    "def evaluate(model, X_b, Y_b):\n",
    "    input = arr2vals(X_b, 'input')\n",
    "    scores = feed_forward(model, input)\n",
    "    expected = arr2vals(Y_b, 'expected')\n",
    "    return calc_loss(scores, expected), calc_accuracy(scores, expected)"
   ]
  },
  {
   "cell_type": "markdown",
   "metadata": {},
   "source": [
    "# save/load"
   ]
  },
  {
   "cell_type": "code",
   "execution_count": 320,
   "metadata": {},
   "outputs": [],
   "source": [
    "POSITIVE_NEURONS = 'mnist_parameters_10x785_positives.npy'\n",
    "\n",
    "\n",
    "def save_neurons(file, neurons):\n",
    "    weights = np.array([[p.data for p in n.parameters()] for n in neurons])\n",
    "    np.save(file, weights)\n",
    "\n",
    "\n",
    "def load_neurons(file):\n",
    "    weights = np.load(file)\n",
    "    neurons = [Neuron(nin=weights.shape[1] - 1, act='xspace') for _ in range(weights.shape[0])]\n",
    "    for Wi in range(len(neurons)):\n",
    "        for p, w in zip(neurons[Wi].parameters(), weights[Wi]):\n",
    "            p.data = w\n",
    "            p._lr = 0.0\n",
    "    return neurons"
   ]
  },
  {
   "cell_type": "code",
   "execution_count": 321,
   "metadata": {},
   "outputs": [],
   "source": [
    "def freeze_layers(model, lids: list):\n",
    "    for idx in lids:\n",
    "        for p in model.layers[idx].parameters():\n",
    "            p._lr = 0.0\n",
    "\n",
    "\n",
    "def norm_layers(model):\n",
    "    for layer in model.layers:\n",
    "        for neuron in layer.neurons:\n",
    "            norm = sum(abs(p.data) for p in neuron.parameters())\n",
    "            for p in neuron.parameters():\n",
    "                p.data /= norm"
   ]
  },
  {
   "cell_type": "code",
   "execution_count": 322,
   "metadata": {},
   "outputs": [
    {
     "data": {
      "text/plain": [
       "(60000, 10)"
      ]
     },
     "execution_count": 322,
     "metadata": {},
     "output_type": "execute_result"
    }
   ],
   "source": [
    "Y_train_oh = OH_ENCODER(Y_train)\n",
    "Y_train_oh.shape"
   ]
  },
  {
   "cell_type": "code",
   "execution_count": 323,
   "metadata": {},
   "outputs": [
    {
     "data": {
      "text/plain": [
       "((20, 784), [1, 1, 0, 0, 1, 1, 1, 1, 0, 1, 1, 1, 1, 0, 0, 1, 0, 0, 0, 0])"
      ]
     },
     "execution_count": 323,
     "metadata": {},
     "output_type": "execute_result"
    }
   ],
   "source": [
    "# select positives\n",
    "def select(X, Y, selector):\n",
    "    idx = np.where(np.isin(Y, selector))[0]\n",
    "    return X[idx], Y[idx]\n",
    "\n",
    "def select_batch(X, Y, selector, batch_size):\n",
    "    idx = np.where(np.isin(Y, selector))[0]\n",
    "    return get_batch(X[idx], OH_ENCODER(Y[idx]), batch_size)\n",
    "\n",
    "x, y_oh = select_batch(X_train, Y_train, [0, 1], 20)\n",
    "x.shape, list(map(OH_DECODER, arr2vals(y_oh)))"
   ]
  },
  {
   "cell_type": "code",
   "execution_count": 324,
   "metadata": {},
   "outputs": [],
   "source": [
    "def fit(model, X, Y_oh, iterations, q=0.5, early_stop_at_loss=1e-9):\n",
    "    total_loss, acc = evaluate(model, X, Y_oh)\n",
    "    print(f\"start: loss {total_loss.data}, accuracy {acc*100}%\")\n",
    "\n",
    "    for k in range(iterations):\n",
    "        if total_loss.data == 0:\n",
    "            print(f\"step {k}: loss {total_loss.data}, accuracy {acc*100}%\")\n",
    "            return total_loss.data, acc\n",
    "\n",
    "        model.learn_from(total_loss, q)\n",
    "        model.norm()\n",
    "\n",
    "        total_loss, acc = evaluate(model, X, Y_oh)\n",
    "        print(f\"step {k}: loss {total_loss.data}, accuracy {acc*100}%\")\n",
    "\n",
    "        if total_loss.data <= early_stop_at_loss:\n",
    "            print(f\"Early STOP!\")\n",
    "            break\n",
    "\n",
    "    return total_loss.data, acc\n",
    "\n",
    "\n",
    "\n",
    "def get_model_for(classes, batch_size, iterations, model=None):\n",
    "    X, Y_oh = select_batch(X_train, Y_train, classes, batch_size)\n",
    "    n = len(classes)\n",
    "\n",
    "    # initialize a model\n",
    "    if model is None:\n",
    "        model = MLP(\n",
    "            784,\n",
    "            [\n",
    "                (n * 2, 'xspace'),\n",
    "                (10, 'xspace')\n",
    "            ],\n",
    "            lr=1.0\n",
    "        )\n",
    "\n",
    "    frozen_positives = [n for c, n in enumerate(load_neurons(POSITIVE_NEURONS)) if c in classes]\n",
    "    model.layers[0].neurons = model.layers[0].neurons[:n] + frozen_positives\n",
    "\n",
    "    total_loss, acc = fit(model, X, Y_oh, iterations)\n",
    "\n",
    "    return model, total_loss, acc"
   ]
  },
  {
   "cell_type": "code",
   "execution_count": 325,
   "metadata": {},
   "outputs": [
    {
     "name": "stdout",
     "output_type": "stream",
     "text": [
      "start: loss 280.0, accuracy 0.0%\n",
      "step 0: loss 40.0, accuracy 0.0%\n",
      "step 1: loss 48.0, accuracy 40.0%\n",
      "step 2: loss 48.0, accuracy 40.0%\n",
      "step 3: loss 32.0, accuracy 60.0%\n",
      "step 4: loss 40.0, accuracy 0.0%\n",
      "step 5: loss 60.0, accuracy 10.0%\n",
      "step 6: loss 24.0, accuracy 40.0%\n",
      "step 7: loss 28.0, accuracy 30.0%\n",
      "step 8: loss 48.0, accuracy 0.0%\n",
      "step 9: loss 32.0, accuracy 30.0%\n"
     ]
    }
   ],
   "source": [
    "BATCH_SIZE = 10\n",
    "ITERATIONS = 10\n",
    "SELECTED_CLASSES = [0, 1]\n",
    "\n",
    "model, total_loss, accuracy = get_model_for(SELECTED_CLASSES, BATCH_SIZE, ITERATIONS)"
   ]
  },
  {
   "cell_type": "markdown",
   "metadata": {},
   "source": [
    "# DEBUG"
   ]
  },
  {
   "cell_type": "code",
   "execution_count": 334,
   "metadata": {},
   "outputs": [
    {
     "name": "stdout",
     "output_type": "stream",
     "text": [
      "start: loss 36.0, accuracy 10.0%\n",
      "step 0: loss 16.0, accuracy 80.0%\n",
      "step 1: loss 56.0, accuracy 0.0%\n",
      "step 2: loss 36.0, accuracy 10.0%\n",
      "step 3: loss 64.0, accuracy 20.0%\n",
      "step 4: loss 64.0, accuracy 20.0%\n",
      "step 5: loss 32.0, accuracy 20.0%\n",
      "step 6: loss 1.9721522630525295e-31, accuracy 100.0%\n",
      "Early STOP!\n"
     ]
    }
   ],
   "source": [
    "model, total_loss, accuracy = get_model_for(SELECTED_CLASSES, BATCH_SIZE, ITERATIONS, model)"
   ]
  },
  {
   "cell_type": "code",
   "execution_count": 338,
   "metadata": {},
   "outputs": [
    {
     "data": {
      "image/png": "[encoded data removed]",
      "text/plain": [
       "<Figure size 640x480 with 1 Axes>"
      ]
     },
     "metadata": {},
     "output_type": "display_data"
    }
   ],
   "source": [
    "w = np.array([p.data for p in model.layers[0].neurons[1].parameters()][:-1])\n",
    "w = w.reshape([-1, w.shape[0]])\n",
    "draw_some(w)"
   ]
  },
  {
   "cell_type": "code",
   "execution_count": 343,
   "metadata": {},
   "outputs": [
    {
     "data": {
      "text/plain": [
       "array([[-4.70093038e-04, -4.68479821e-04, -4.69502647e-04, ...,\n",
       "        -4.69090211e-04, -4.68472566e-04,  4.68892510e-04],\n",
       "       [-1.45667689e-01, -1.45118249e-01, -1.44764361e-01, ...,\n",
       "        -1.45684912e-01, -1.44009873e-01,  1.44602413e-01],\n",
       "       [-1.42613376e+01, -1.42600871e+01, -1.42599528e+01, ...,\n",
       "        -1.42596654e+01, -1.42600232e+01,  1.42598849e+01],\n",
       "       ...,\n",
       "       [-6.92707308e-02, -6.87212902e-02, -6.83674023e-02, ...,\n",
       "        -6.92879541e-02, -6.76129144e-02,  6.82054551e-02],\n",
       "       [-2.55301041e-02, -2.49806636e-02, -2.46267757e-02, ...,\n",
       "        -2.55473275e-02, -2.38722877e-02,  2.44648284e-02],\n",
       "       [-4.16028373e+01, -4.16028366e+01, -4.16028362e+01, ...,\n",
       "        -4.16028373e+01, -4.16028352e+01,  4.16028360e+01]])"
      ]
     },
     "execution_count": 343,
     "metadata": {},
     "output_type": "execute_result"
    }
   ],
   "source": [
    "import numpy as np\n",
    "\n",
    "FROZEN_NEURONS = load_neurons(POSITIVE_NEURONS)\n",
    "\n",
    "frozen_parameters # just set learning rate to 0.0"
   ]
  },
  {
   "cell_type": "code",
   "execution_count": 73,
   "metadata": {},
   "outputs": [
    {
     "name": "stdout",
     "output_type": "stream",
     "text": [
      "actual: 8 != expected: 6\n",
      "actual: 8 = expected: 8\n"
     ]
    }
   ],
   "source": [
    "# X_t, Y_t = get_batch(X_test, Y_t_oh, BATCH_SIZE)\n",
    "X_t, Y_t = X_b, Y_b\n",
    "\n",
    "input = arr2vals(X_t, 'input')\n",
    "expected = arr2vals(Y_t, 'expected')\n",
    "scores = feed_forward(model, input)\n",
    "\n",
    "for a, e in zip(scores, expected):\n",
    "    a, e = OH_DECODER(a), OH_DECODER(e)\n",
    "    op = '=' if a == e else '!='\n",
    "    print(f'actual: {a} {op} expected: {e}')"
   ]
  },
  {
   "cell_type": "code",
   "execution_count": 33,
   "metadata": {},
   "outputs": [
    {
     "data": {
      "text/plain": [
       "[[Value(auto : [-1.0, 0.0]),\n",
       "  Value(auto : [-1.0, 0.0]),\n",
       "  Value(auto : [-1.0, 0.0]),\n",
       "  Value(auto : [-1.0, 0.0]),\n",
       "  Value(auto : [-1.0, 0.0]),\n",
       "  Value(auto : [-1.0, 0.0]),\n",
       "  Value(auto : [-1.0, 0.0]),\n",
       "  Value(auto : [-1.0, 0.0]),\n",
       "  Value(auto : [1.0, 0.0]),\n",
       "  Value(auto : [-1.0, 0.0])],\n",
       " [Value(auto : [-1.0, 0.0]),\n",
       "  Value(auto : [-1.0, 0.0]),\n",
       "  Value(auto : [-1.0, 0.0]),\n",
       "  Value(auto : [-1.0, 0.0]),\n",
       "  Value(auto : [-1.0, 0.0]),\n",
       "  Value(auto : [-1.0, 0.0]),\n",
       "  Value(auto : [-1.0, 0.0]),\n",
       "  Value(auto : [-1.0, 0.0]),\n",
       "  Value(auto : [1.0, 0.0]),\n",
       "  Value(auto : [-1.0, 0.0])]]"
      ]
     },
     "execution_count": 33,
     "metadata": {},
     "output_type": "execute_result"
    }
   ],
   "source": [
    "scores"
   ]
  },
  {
   "cell_type": "code",
   "execution_count": 418,
   "metadata": {},
   "outputs": [
    {
     "data": {
      "text/plain": [
       "[[Value(expected : [-1.0, 0.0]),\n",
       "  Value(expected : [-1.0, 0.0]),\n",
       "  Value(expected : [-1.0, 0.0]),\n",
       "  Value(expected : [-1.0, 0.0]),\n",
       "  Value(expected : [-1.0, 0.0]),\n",
       "  Value(expected : [-1.0, 0.0]),\n",
       "  Value(expected : [-1.0, 0.0]),\n",
       "  Value(expected : [-1.0, 0.0]),\n",
       "  Value(expected : [-1.0, 0.0]),\n",
       "  Value(expected : [1.0, 0.0])]]"
      ]
     },
     "execution_count": 418,
     "metadata": {},
     "output_type": "execute_result"
    }
   ],
   "source": [
    "expected"
   ]
  },
  {
   "cell_type": "code",
   "execution_count": 34,
   "metadata": {},
   "outputs": [
    {
     "data": {
      "text/plain": [
       "Value(auto : [8.0, 1])"
      ]
     },
     "execution_count": 34,
     "metadata": {},
     "output_type": "execute_result"
    }
   ],
   "source": [
    "total_loss = loss(scores, expected)\n",
    "total_loss.backward()\n",
    "total_loss"
   ]
  },
  {
   "cell_type": "code",
   "execution_count": 36,
   "metadata": {},
   "outputs": [
    {
     "data": {
      "text/plain": [
       "[0.09091930836562138,\n",
       " 0.09090433245603816,\n",
       " 0.0909059453985037,\n",
       " 0.09091070230113207,\n",
       " 0.09090884981203924,\n",
       " 0.090902106311659,\n",
       " 0.09090411950754398,\n",
       " 0.09091737629039057,\n",
       " 0.09091107035136436,\n",
       " 0.09090774508449766,\n",
       " 0.09090844412120991]"
      ]
     },
     "execution_count": 36,
     "metadata": {},
     "output_type": "execute_result"
    }
   ],
   "source": [
    "parameters = [p for p in model.layers[1].parameters() if p.grad > 0.0]\n",
    "parameters.sort(key=lambda p: p._lr)\n",
    "[p.data for p in parameters]"
   ]
  }
 ],
 "metadata": {
  "kernelspec": {
   "display_name": "Python 3",
   "language": "python",
   "name": "python3"
  },
  "language_info": {
   "codemirror_mode": {
    "name": "ipython",
    "version": 3
   },
   "file_extension": ".py",
   "mimetype": "text/x-python",
   "name": "python",
   "nbconvert_exporter": "python",
   "pygments_lexer": "ipython3",
   "version": "3.11.7"
  }
 },
 "nbformat": 4,
 "nbformat_minor": 2
}
