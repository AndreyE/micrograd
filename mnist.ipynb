{
 "cells": [
  {
   "cell_type": "markdown",
   "metadata": {},
   "source": [
    "###  MicroGrad demo"
   ]
  },
  {
   "cell_type": "code",
   "execution_count": 102,
   "metadata": {},
   "outputs": [],
   "source": [
    "import random\n",
    "import numpy as np\n",
    "import matplotlib.pyplot as plt\n",
    "\n",
    "\n",
    "from micrograd.engine import Value\n",
    "from micrograd.nn import Neuron, Layer, MLP\n",
    "\n",
    "%matplotlib inline"
   ]
  },
  {
   "cell_type": "code",
   "execution_count": 103,
   "metadata": {},
   "outputs": [],
   "source": [
    "np.random.seed(1337)\n",
    "random.seed(1337)"
   ]
  },
  {
   "cell_type": "code",
   "execution_count": 104,
   "metadata": {},
   "outputs": [],
   "source": [
    "from graphviz import Digraph\n",
    "\n",
    "def trace(root):\n",
    "    nodes, edges = set(), set()\n",
    "    def build(v):\n",
    "        if v not in nodes:\n",
    "            nodes.add(v)\n",
    "            for child in v._prev:\n",
    "                edges.add((child, v))\n",
    "                build(child)\n",
    "    build(root)\n",
    "    return nodes, edges\n",
    "\n",
    "def draw_dot(root, format='svg', rankdir='LR'):\n",
    "    \"\"\"\n",
    "    format: png | svg | ...\n",
    "    rankdir: TB (top to bottom graph) | LR (left to right)\n",
    "    \"\"\"\n",
    "    assert rankdir in ['LR', 'TB']\n",
    "    nodes, edges = trace(root)\n",
    "    dot = Digraph(format=format, graph_attr={'rankdir': rankdir}) #, node_attr={'rankdir': 'TB'})\n",
    "\n",
    "    for n in nodes:\n",
    "        dot.node(name=str(id(n)), label = \"{ %s | data %.4f | grad %.4f }\" % (n._name, n.data, n.grad), shape='record')\n",
    "        if n._op:\n",
    "            dot.node(name=str(id(n)) + n._op, label=n._op)\n",
    "            dot.edge(str(id(n)) + n._op, str(id(n)))\n",
    "\n",
    "    for n1, n2 in edges:\n",
    "        dot.edge(str(id(n1)), str(id(n2)) + n2._op)\n",
    "\n",
    "    return dot"
   ]
  },
  {
   "cell_type": "markdown",
   "metadata": {},
   "source": [
    "# Get MNIST dataset"
   ]
  },
  {
   "cell_type": "code",
   "execution_count": 105,
   "metadata": {},
   "outputs": [],
   "source": [
    "from torchvision import datasets as dts\n",
    "\n",
    "MNIST_DATASET = dts.MNIST(root = 'data', train = True, download=True)\n",
    "\n",
    "X_train = MNIST_DATASET.data / 255.0 # * 2 - 1\n",
    "X_train = X_train.reshape(X_train.shape[0], 784)\n",
    "\n",
    "Y_train = MNIST_DATASET.targets"
   ]
  },
  {
   "cell_type": "code",
   "execution_count": 106,
   "metadata": {},
   "outputs": [
    {
     "data": {
      "text/plain": [
       "tensor([[ 1., -1., -1., -1., -1., -1., -1., -1., -1., -1.],\n",
       "        [-1.,  1., -1., -1., -1., -1., -1., -1., -1., -1.],\n",
       "        [-1., -1.,  1., -1., -1., -1., -1., -1., -1., -1.],\n",
       "        [-1., -1., -1.,  1., -1., -1., -1., -1., -1., -1.],\n",
       "        [-1., -1., -1., -1.,  1., -1., -1., -1., -1., -1.],\n",
       "        [-1., -1., -1., -1., -1.,  1., -1., -1., -1., -1.],\n",
       "        [-1., -1., -1., -1., -1., -1.,  1., -1., -1., -1.],\n",
       "        [-1., -1., -1., -1., -1., -1., -1.,  1., -1., -1.],\n",
       "        [-1., -1., -1., -1., -1., -1., -1., -1.,  1., -1.],\n",
       "        [-1., -1., -1., -1., -1., -1., -1., -1., -1.,  1.]])"
      ]
     },
     "execution_count": 106,
     "metadata": {},
     "output_type": "execute_result"
    }
   ],
   "source": [
    "from collections import defaultdict\n",
    "import torch\n",
    "\n",
    "ALL_POSITIVE_CLASSES = torch.tensor([0, 1, 2, 3, 4, 5, 6, 7, 8, 9])\n",
    "\n",
    "NEG = -1.0\n",
    "VOID = 0.0\n",
    "POS = 1.0\n",
    "\n",
    "def vals2tensor(values):\n",
    "    if isinstance(values, torch.Tensor):\n",
    "        return values\n",
    "    if len(values):\n",
    "        if isinstance(values[0], list):\n",
    "            if len(values[0]):\n",
    "                return torch.tensor([[v.data for v in vs] for vs in values])\n",
    "        elif isinstance(values[0], Value):\n",
    "            return torch.tensor([v.data for v in values])\n",
    "    assert False\n",
    "\n",
    "\n",
    "def oh_encode(classes: torch.tensor):\n",
    "    if isinstance(classes, list):\n",
    "        classes = torch.tensor(classes)\n",
    "\n",
    "    assert classes.dim() == 1\n",
    "    DIM = classes.shape[0]\n",
    "\n",
    "    void = torch.tensor([VOID] * len(classes))\n",
    "\n",
    "    oh_enc = defaultdict(lambda: void)\n",
    "    oh_dec = defaultdict(lambda: None)\n",
    "\n",
    "    for i, cls in enumerate(classes):\n",
    "        cls_vec = torch.tensor([NEG] * classes.shape[0])\n",
    "        cls_vec[i] = POS\n",
    "        oh_enc[cls.item()] = cls_vec\n",
    "        oh_dec[tuple(cls_vec.numpy())] = cls.item()\n",
    "\n",
    "    def oh_decoder(encoded):\n",
    "        encoded = vals2tensor(encoded)\n",
    "        encoded = np.round(encoded)\n",
    "        # pick the closest vector (is round() OK for that?)\n",
    "        if len(encoded.shape) > 1:\n",
    "            return [oh_dec[tuple(row.numpy())] for row in encoded]\n",
    "        elif len(encoded.shape) == 1:\n",
    "            assert encoded.shape[-1] == DIM, f'unfit OH encoding {encoded.shape[-1]} != {DIM} (targets dimention)'\n",
    "            return oh_dec[tuple(encoded.numpy())]\n",
    "        assert False\n",
    "\n",
    "    def oh_encoder(Y):\n",
    "        if isinstance(Y, list):\n",
    "            Y = torch.tensor(Y)\n",
    "        return torch.vstack([oh_enc[cls.item()] for cls in Y])\n",
    "\n",
    "    return oh_encoder, oh_decoder\n",
    "\n",
    "enc, dec = oh_encode(ALL_POSITIVE_CLASSES)\n",
    "enc(ALL_POSITIVE_CLASSES)"
   ]
  },
  {
   "cell_type": "code",
   "execution_count": 107,
   "metadata": {},
   "outputs": [],
   "source": [
    "import torch\n",
    "\n",
    "\n",
    "def append_noise(X, noise_size, min=-1.0, max=1.0):\n",
    "    noise_shape = torch.Size([noise_size]) + X.shape[1:]\n",
    "    noise_tensor = torch.empty(noise_shape).uniform_(min, max)\n",
    "    return torch.concat([X, noise_tensor])\n",
    "\n",
    "\n",
    "def append_void(X, void_size, void=-1.0):\n",
    "    void_shape = torch.Size([void_size]) + X.shape[1:]\n",
    "    void_tensor = torch.empty(void_shape).fill_(void)\n",
    "    return torch.concat([X, void_tensor])\n",
    "\n",
    "\n",
    "def get_batch(X, Y, batch_size, noise_ratio=0.0, void_ratio=0.0, void_class=-1):\n",
    "    ri = np.random.permutation(X.shape[0])[:batch_size]\n",
    "    X, Y = X[ri], Y[ri]\n",
    "\n",
    "    if noise_ratio > 0.0:\n",
    "        noise_size = round(batch_size * noise_ratio)\n",
    "        X = append_noise(X, noise_size)\n",
    "        Y = torch.concat([Y, torch.tensor([void_class] * noise_size)])\n",
    "\n",
    "    if void_ratio > 0.0:\n",
    "        void_size = round(batch_size * void_ratio)\n",
    "        X = append_void(X, void_size, void=np.random.uniform(0, 1))\n",
    "        Y = torch.concat([Y, torch.tensor([void_class] * void_size)])\n",
    "\n",
    "    return X, Y\n",
    "\n",
    "\n",
    "def arr2vals(array, name=''):\n",
    "    return [[Value(el, _name=name) for el in row] for row in array]\n",
    "\n",
    "\n",
    "def batch2vals(batch):\n",
    "    return tuple(map(arr2vals, batch))\n"
   ]
  },
  {
   "cell_type": "code",
   "execution_count": 108,
   "metadata": {},
   "outputs": [],
   "source": [
    "def calc_accuracy(scores, targets, oh_decoder):\n",
    "    matches = 0\n",
    "    for score, target in zip(scores, targets):\n",
    "        matches += oh_decoder(score) == oh_decoder(target)\n",
    "    return matches / len(scores)\n",
    "\n",
    "\n",
    "def one_loss(score, ground_truth):\n",
    "    return sum(((s - gt) / 2) ** 2 for s, gt in zip(score, ground_truth) if gt.data != VOID)\n",
    "\n",
    "\n",
    "def calc_loss(scores, targets):\n",
    "    assert len(scores) == len(targets)\n",
    "    return sum(one_loss(xs, ts) for xs, ts in zip(scores, targets))\n",
    "\n",
    "\n",
    "def feed_forward(model, X):\n",
    "    return list(map(model, X))\n",
    "\n",
    "\n",
    "def evaluate(model, X, Y_oh, oh_decoder):\n",
    "    input = arr2vals(X, 'input')\n",
    "    scores = feed_forward(model, input)\n",
    "    targets = arr2vals(Y_oh, 'expected')\n",
    "    return calc_loss(scores, targets), calc_accuracy(scores, targets, oh_decoder), scores, targets"
   ]
  },
  {
   "cell_type": "markdown",
   "metadata": {},
   "source": [
    "# save/load"
   ]
  },
  {
   "cell_type": "code",
   "execution_count": 109,
   "metadata": {},
   "outputs": [],
   "source": [
    "POSITIVE_NEURONS = 'mnist_parameters_10x785_positives.npy'\n",
    "\n",
    "\n",
    "def save_neurons(file, neurons):\n",
    "    weights = np.array([[p.data for p in n.parameters()] for n in neurons])\n",
    "    np.save(file, weights)\n",
    "\n",
    "\n",
    "def load_neurons(file):\n",
    "    weights = np.load(file)\n",
    "    neurons = [Neuron(nin=weights.shape[1] - 1, act='xspace') for _ in range(weights.shape[0])]\n",
    "    for Wi in range(len(neurons)):\n",
    "        for p, w in zip(neurons[Wi].parameters(), weights[Wi]):\n",
    "            p.data = w\n",
    "            p._lr = 0.0\n",
    "    return neurons"
   ]
  },
  {
   "cell_type": "code",
   "execution_count": 110,
   "metadata": {},
   "outputs": [],
   "source": [
    "import matplotlib.pyplot as plt\n",
    "\n",
    "\n",
    "def select(X, Y, selector):\n",
    "    idx = np.where(np.isin(Y, selector))[0]\n",
    "    return X[idx], Y[idx]\n",
    "\n",
    "\n",
    "def select_batch(X, Y, selector, batch_size, noise_ratio=0.0, void_ratio=0.0, void_class=torch.nan):\n",
    "    idx = np.where(np.isin(Y, selector))[0]\n",
    "    return get_batch(X[idx], Y[idx], batch_size, noise_ratio, void_ratio, void_class)\n",
    "\n",
    "\n",
    "def draw_neuron(model, neuron, layer=0):\n",
    "    w = np.array([p.data for p in model.layers[layer].neurons[neuron].parameters()][:-1])\n",
    "    w = w.reshape([-1, w.shape[0]])\n",
    "    plt.imshow(w)\n",
    "\n",
    "\n",
    "def one_neuron_histo(neuron, bins=100):\n",
    "    array = np.array([p.data for p in neuron.parameters()])\n",
    "    plt.hist(array, bins=bins, edgecolor='black')\n",
    "\n",
    "    plt.title('Гистограмма нейрона')\n",
    "    plt.xlabel('Вес')\n",
    "    plt.ylabel('Частота')\n",
    "\n",
    "    plt.show()\n",
    "\n",
    "\n",
    "def draw_all_neurons(neurons):\n",
    "    fig, axes = plt.subplots(1, len(neurons), sharey=True)\n",
    "    if len(neurons) == 1:\n",
    "        axes = [axes]\n",
    "\n",
    "    for neuron, axe in zip(neurons, axes):\n",
    "        array = np.array([p.data for p in neuron.parameters()][:-1])\n",
    "        array = array.reshape([-1, array.shape[0]])\n",
    "        axe.imshow(array.reshape([28, 28]))\n",
    "    fig.suptitle(\"Нейроны\")\n",
    "\n",
    "\n",
    "def all_neurons_histo(neurons, bins=100):\n",
    "    fig, axes = plt.subplots(1, len(neurons), sharey=True)\n",
    "    if len(neurons) == 1:\n",
    "        axes = [axes]\n",
    "\n",
    "    for neuron, axe in zip(neurons, axes):\n",
    "        array = np.array([p.data for p in neuron.parameters()])\n",
    "        axe.hist(array, bins=bins, edgecolor='black')\n",
    "\n",
    "    fig.suptitle('Гистограмма нейронов')\n",
    "    fig.supxlabel('Вес')\n",
    "    fig.supylabel('Частота')\n",
    "\n",
    "    plt.show()"
   ]
  },
  {
   "cell_type": "code",
   "execution_count": 111,
   "metadata": {},
   "outputs": [],
   "source": [
    "import math\n",
    "\n",
    "\n",
    "def fit(model, X, Y_oh, oh_decoder, iterations, q=0.75, esat=1e-9):\n",
    "    total_loss, acc, scores, targets = evaluate(model, X, Y_oh, oh_decoder)\n",
    "    print(f\"start: loss {total_loss.data}, accuracy {acc*100}%\")\n",
    "\n",
    "    for k in range(iterations):\n",
    "        if total_loss.data == 0:\n",
    "            print(f\"step {k}: loss {total_loss.data}, accuracy {acc*100}%\")\n",
    "            return total_loss.data, acc, scores, targets\n",
    "\n",
    "        model.learn_from(total_loss, q)\n",
    "        # model.norm()\n",
    "\n",
    "        total_loss, acc, scores, targets = evaluate(model, X, Y_oh, oh_decoder)\n",
    "        print(f\"step {k}: loss {total_loss.data}, accuracy {acc*100}%\")\n",
    "\n",
    "        if total_loss.data <= esat:\n",
    "            print(f\"Early STOP!\")\n",
    "            break\n",
    "\n",
    "    return total_loss, acc, scores, targets\n",
    "\n",
    "\n",
    "\n",
    "def get_model_for(classes, batch, iterations, model=None, q=0.75, esat=1e-9, with_frozen_neurons=False):\n",
    "    X, Y = batch\n",
    "    DIM = len(classes)\n",
    "    LAYER_0_SIZE = math.comb(DIM, 2) + (DIM if not with_frozen_neurons else 0)\n",
    "\n",
    "    oh_encoder, oh_decoder = oh_encode(classes)\n",
    "    oh_decoder([Value(0)] * DIM)\n",
    "\n",
    "    Y_oh = oh_encoder(Y)\n",
    "\n",
    "    # initialize a model\n",
    "    if model is None:\n",
    "        model = MLP(\n",
    "            784,\n",
    "            [\n",
    "                # (LAYER_0_SIZE, 'xspace'),\n",
    "                # (1, 'minmax'),\n",
    "                (DIM, 'minmax')\n",
    "            ],\n",
    "            lr=1.0,\n",
    "            # init=lambda: 0.0\n",
    "        )\n",
    "\n",
    "    if with_frozen_neurons:\n",
    "        frozen_positives = [n for c, n in enumerate(load_neurons(POSITIVE_NEURONS)) if c in classes]\n",
    "        model.layers[0].neurons = model.layers[0].neurons + frozen_positives\n",
    "\n",
    "    total_loss, acc, scores, targets = fit(model, X, Y_oh, oh_decoder, iterations, esat=esat, q=q)\n",
    "\n",
    "    return (model, total_loss, acc), (scores, targets), (oh_encoder, oh_decoder)"
   ]
  },
  {
   "cell_type": "code",
   "execution_count": 112,
   "metadata": {},
   "outputs": [
    {
     "name": "stdout",
     "output_type": "stream",
     "text": [
      "start: loss 46.388422387288635, accuracy 0.0%\n",
      "step 0: loss 349.82110026018023, accuracy 0.0%\n",
      "step 1: loss 7.109220084839327, accuracy 0.0%\n",
      "step 2: loss 4.932681793749296, accuracy 0.0%\n"
     ]
    },
    {
     "data": {
      "image/png": "[encoded data removed]",
      "text/plain": [
       "<Figure size 640x480 with 2 Axes>"
      ]
     },
     "metadata": {},
     "output_type": "display_data"
    }
   ],
   "source": [
    "SELECTED_CLASSES = [0, 1]\n",
    "NOISE_RATIO = 0.0\n",
    "VOID_RATIO = 0.0\n",
    "ITERATIONS = 3\n",
    "BATCH_SIZE = 10\n",
    "BATCH = select_batch(X_train, Y_train, SELECTED_CLASSES, BATCH_SIZE, noise_ratio=NOISE_RATIO, void_ratio=VOID_RATIO)\n",
    "X, Y = BATCH\n",
    "\n",
    "(model, total_loss, accuracy), (scores, targets), (oh_encoder, oh_decoder) = get_model_for(SELECTED_CLASSES, BATCH, ITERATIONS, q=0.5)\n",
    "draw_all_neurons(model.layers[0].neurons)"
   ]
  },
  {
   "cell_type": "markdown",
   "metadata": {},
   "source": [
    "# DEBUG"
   ]
  },
  {
   "cell_type": "code",
   "execution_count": 113,
   "metadata": {},
   "outputs": [
    {
     "name": "stdout",
     "output_type": "stream",
     "text": [
      "start: loss 4.932681793749296, accuracy 0.0%\n",
      "step 0: loss 3.4903218334116364, accuracy 0.0%\n",
      "step 1: loss 2.5185180465631136, accuracy 0.0%\n",
      "step 2: loss 1.844299557847523, accuracy 0.0%\n",
      "step 3: loss 1.350898017471549, accuracy 20.0%\n",
      "step 4: loss 0.9648818622763766, accuracy 60.0%\n",
      "step 5: loss 0.646045272188472, accuracy 80.0%\n",
      "step 6: loss 0.3895164097060375, accuracy 80.0%\n",
      "step 7: loss 0.21615386676055268, accuracy 100.0%\n",
      "step 8: loss 0.12730471899200776, accuracy 100.0%\n",
      "step 9: loss 0.08434530810374903, accuracy 100.0%\n"
     ]
    },
    {
     "data": {
      "image/png": "[encoded data removed]",
      "text/plain": [
       "<Figure size 640x480 with 2 Axes>"
      ]
     },
     "metadata": {},
     "output_type": "display_data"
    }
   ],
   "source": [
    "(model, total_loss, accuracy), (scores, targets), (oh_encoder, oh_decoder) = get_model_for(SELECTED_CLASSES, BATCH, 10, model=model, q=0.5)\n",
    "draw_all_neurons(model.layers[0].neurons)"
   ]
  },
  {
   "cell_type": "code",
   "execution_count": 80,
   "metadata": {},
   "outputs": [
    {
     "data": {
      "text/plain": [
       "[[Value(auto : [-0.9924008102487649, 0.0, 1.0]),\n",
       "  Value(auto : [1.0041410736358989, 0.0, 1.0])],\n",
       " [Value(auto : [-0.9864445766754911, 0.0, 1.0]),\n",
       "  Value(auto : [1.0084121008962375, 0.0, 1.0])],\n",
       " [Value(auto : [0.9942657233825626, 0.0, 1.0]),\n",
       "  Value(auto : [-0.9888179552451152, 0.0, 1.0])],\n",
       " [Value(auto : [1.0006155941596002, 0.0, 1.0]),\n",
       "  Value(auto : [-0.985546324809662, 0.0, 1.0])],\n",
       " [Value(auto : [-1.001629957261933, 0.0, 1.0]),\n",
       "  Value(auto : [1.0087619534666497, 0.0, 1.0])],\n",
       " [Value(auto : [-0.9989398815863763, 0.0, 1.0]),\n",
       "  Value(auto : [1.0217586098483238, 0.0, 1.0])],\n",
       " [Value(auto : [-1.0106893676607749, 0.0, 1.0]),\n",
       "  Value(auto : [1.0092278838140063, 0.0, 1.0])],\n",
       " [Value(auto : [-1.0199450619314754, 0.0, 1.0]),\n",
       "  Value(auto : [1.0187429170126494, 0.0, 1.0])],\n",
       " [Value(auto : [1.0044394657614724, 0.0, 1.0]),\n",
       "  Value(auto : [-0.9885721458816118, 0.0, 1.0])],\n",
       " [Value(auto : [-0.9903994990154676, 0.0, 1.0]),\n",
       "  Value(auto : [1.0045262409561304, 0.0, 1.0])]]"
      ]
     },
     "execution_count": 80,
     "metadata": {},
     "output_type": "execute_result"
    }
   ],
   "source": []
  },
  {
   "cell_type": "code",
   "execution_count": 66,
   "metadata": {},
   "outputs": [
    {
     "name": "stdout",
     "output_type": "stream",
     "text": [
      "inputs:  tensor([[0, 1]])\n",
      "targets:  tensor([[ 1., -1.]]) \n",
      "\n",
      "start loss:  Value(auto : [0.5, 0.0, 1.0])\n",
      "start params:  [Value(weight : [0.0, 0.0, 1.0]), Value(weight : [0.0, 0.0, 1.0]), Value(bias : [0.0, 0.0, 1.0]), Value(weight : [0.0, 0.0, 1.0]), Value(weight : [0.0, 0.0, 1.0]), Value(bias : [0.0, 0.0, 1.0])]\n",
      "start scores:  [[Value(auto : [0.0, 0.0, 1.0]), Value(auto : [0.0, 0.0, 1.0])]] \n",
      "\n",
      "0 loss:  Value(auto : [0.0, 0.0, 1.0])\n",
      "0 params:  [Value(weight : [0.0, 0.0, 1.0]), Value(weight : [2.1213203435596424, -0.5, 1.0]), Value(bias : [2.1213203435596424, -0.5, 1.0]), Value(weight : [0.0, 0.0, 1.0]), Value(weight : [-2.1213203435596424, 0.5, 1.0]), Value(bias : [-2.1213203435596424, 0.5, 1.0])]\n",
      "0 scores:  [[Value(auto : [1.0, 0.0, 1.0]), Value(auto : [-1.0, 0.0, 1.0])]] \n",
      "\n"
     ]
    },
    {
     "data": {
      "text/plain": [
       "1.0"
      ]
     },
     "execution_count": 66,
     "metadata": {},
     "output_type": "execute_result"
    }
   ],
   "source": [
    "np.random.seed(1337)\n",
    "random.seed(1337)\n",
    "\n",
    "CLASSES = [0, 1]\n",
    "oh_encoder, oh_decoder = oh_encode(CLASSES)\n",
    "\n",
    "x = torch.tensor([\n",
    "    [0, 1]\n",
    "])\n",
    "y_oh = oh_encoder([0])\n",
    "\n",
    "model = MLP(\n",
    "    x.shape[1],\n",
    "    [\n",
    "        (y_oh.shape[1], 'xspace'),\n",
    "    ],\n",
    "    lr=1.0,\n",
    "    init=lambda: 0.0, # TODO: play with initial value\n",
    ")\n",
    "\n",
    "\n",
    "input = arr2vals(x, 'input')\n",
    "scores = feed_forward(model, input)\n",
    "targets = arr2vals(y_oh, 'target')\n",
    "\n",
    "print('inputs: ', x)\n",
    "print('targets: ', y_oh, '\\n')\n",
    "\n",
    "\n",
    "def calc_loss(scores, targets):\n",
    "    assert len(scores) == len(targets)\n",
    "    return sum(one_loss(xs, ts) for xs, ts in zip(scores, targets))\n",
    "\n",
    "total_loss = calc_loss(scores, targets)\n",
    "\n",
    "def dump(k):\n",
    "    print(f'{k} loss: ', total_loss)\n",
    "    print(f'{k} params: ', model.layers[0].parameters())\n",
    "    print(f'{k} scores: ', scores, '\\n')\n",
    "\n",
    "dump('start')\n",
    "for k in range(1):\n",
    "    model.learn_from(total_loss, q=1.0)\n",
    "\n",
    "    scores = feed_forward(model, input)\n",
    "    total_loss = calc_loss(scores, targets)\n",
    "    dump(k)\n",
    "\n",
    "calc_accuracy(scores, targets, oh_decoder)"
   ]
  },
  {
   "cell_type": "code",
   "execution_count": 130,
   "metadata": {},
   "outputs": [
    {
     "data": {
      "image/png": "[encoded data removed]",
      "text/plain": [
       "<Figure size 640x480 with 1 Axes>"
      ]
     },
     "metadata": {},
     "output_type": "display_data"
    },
    {
     "data": {
      "image/png": "[encoded data removed]",
      "text/plain": [
       "<Figure size 640x480 with 1 Axes>"
      ]
     },
     "metadata": {},
     "output_type": "display_data"
    }
   ],
   "source": [
    "classes = [1, 2]\n",
    "\n",
    "x, y = select_batch(X_train, Y_train, classes, 10, void_ratio=0.0)\n",
    "oh_encoder, oh_decoder = oh_encode(classes)\n",
    "y_oh = oh_encoder(y)\n",
    "\n",
    "model = MLP(\n",
    "    784,\n",
    "    [\n",
    "        (1, 'xspace'),\n",
    "        (len(classes), 'xspace')\n",
    "    ],\n",
    "    lr=1.0,\n",
    "    # init=lambda: -1.0\n",
    ")\n",
    "model.norm()\n",
    "\n",
    "def loss():\n",
    "    input = arr2vals(x, 'input')\n",
    "    scores = feed_forward(model, input)\n",
    "    targets = arr2vals(y_oh, 'target')\n",
    "\n",
    "    total_loss = calc_loss(scores, targets)\n",
    "    acc = calc_accuracy(scores, targets, oh_decoder)\n",
    "    return total_loss, acc * 100\n",
    "\n",
    "NEURONS = model.layers[0].neurons\n",
    "all_neurons_histo(NEURONS)\n",
    "draw_all_neurons(NEURONS)"
   ]
  },
  {
   "cell_type": "code",
   "execution_count": 140,
   "metadata": {},
   "outputs": [
    {
     "name": "stdout",
     "output_type": "stream",
     "text": [
      "0: loss 6.0, accuracy 70.0%\n",
      "final: loss 14.0, accuracy 30.0%\n"
     ]
    },
    {
     "data": {
      "image/png": "[encoded data removed]",
      "text/plain": [
       "<Figure size 640x480 with 1 Axes>"
      ]
     },
     "metadata": {},
     "output_type": "display_data"
    },
    {
     "data": {
      "image/png": "[encoded data removed]",
      "text/plain": [
       "<Figure size 640x480 with 1 Axes>"
      ]
     },
     "metadata": {},
     "output_type": "display_data"
    }
   ],
   "source": [
    "iterations = 1\n",
    "total_loss = None\n",
    "\n",
    "def fit(total_loss, iterations=1):\n",
    "    if total_loss is None:\n",
    "        total_loss, acc = loss()\n",
    "\n",
    "    for k in range(iterations):\n",
    "        print(f\"{k}: loss {total_loss.data}, accuracy {acc}%\")\n",
    "        total_loss.backward()\n",
    "        model.learn_from(total_loss, q=1.0)\n",
    "        model.norm()\n",
    "        total_loss, acc = loss()\n",
    "\n",
    "    return total_loss, acc\n",
    "\n",
    "total_loss, acc = fit(total_loss, iterations)\n",
    "print(f\"final: loss {total_loss.data}, accuracy {acc}%\")\n",
    "\n",
    "NEURONS = model.layers[0].neurons\n",
    "\n",
    "draw_all_neurons(NEURONS)\n",
    "all_neurons_histo(NEURONS)"
   ]
  },
  {
   "cell_type": "code",
   "execution_count": 113,
   "metadata": {},
   "outputs": [
    {
     "data": {
      "text/plain": [
       "[[Value(auto : [1.0, 0.0]), Value(auto : [1.0, 0.0])],\n",
       " [Value(auto : [-1.0, 0.0]), Value(auto : [-1.0, 0.0])],\n",
       " [Value(auto : [1.0, 0.0]), Value(auto : [1.0, 0.0])],\n",
       " [Value(auto : [-1.0, 0.0]), Value(auto : [-1.0, 0.0])],\n",
       " [Value(auto : [1.0, 0.0]), Value(auto : [1.0, 0.0])],\n",
       " [Value(auto : [-1.0, 0.0]), Value(auto : [-1.0, 0.0])],\n",
       " [Value(auto : [-1.0, 0.0]), Value(auto : [-1.0, 0.0])],\n",
       " [Value(auto : [1.0, 0.0]), Value(auto : [1.0, 0.0])],\n",
       " [Value(auto : [-1.0, 0.0]), Value(auto : [-1.0, 0.0])],\n",
       " [Value(auto : [-1.0, 0.0]), Value(auto : [-1.0, 0.0])]]"
      ]
     },
     "execution_count": 113,
     "metadata": {},
     "output_type": "execute_result"
    }
   ],
   "source": [
    "input = arr2vals(x, 'input')\n",
    "scores = feed_forward(model, input)\n",
    "targets = arr2vals(y_oh, 'target')\n",
    "\n",
    "list(zip(oh_decoder(scores), oh_decoder(targets)))"
   ]
  },
  {
   "cell_type": "code",
   "execution_count": 206,
   "metadata": {},
   "outputs": [
    {
     "data": {
      "text/html": [
       "<div>\n",
       "<style scoped>\n",
       "    .dataframe tbody tr th:only-of-type {\n",
       "        vertical-align: middle;\n",
       "    }\n",
       "\n",
       "    .dataframe tbody tr th {\n",
       "        vertical-align: top;\n",
       "    }\n",
       "\n",
       "    .dataframe thead th {\n",
       "        text-align: right;\n",
       "    }\n",
       "</style>\n",
       "<table border=\"1\" class=\"dataframe\">\n",
       "  <thead>\n",
       "    <tr style=\"text-align: right;\">\n",
       "      <th></th>\n",
       "      <th>0</th>\n",
       "    </tr>\n",
       "  </thead>\n",
       "  <tbody>\n",
       "    <tr>\n",
       "      <th>count</th>\n",
       "      <td>785.000000</td>\n",
       "    </tr>\n",
       "    <tr>\n",
       "      <th>mean</th>\n",
       "      <td>0.372999</td>\n",
       "    </tr>\n",
       "    <tr>\n",
       "      <th>std</th>\n",
       "      <td>1.000638</td>\n",
       "    </tr>\n",
       "    <tr>\n",
       "      <th>min</th>\n",
       "      <td>-0.001893</td>\n",
       "    </tr>\n",
       "    <tr>\n",
       "      <th>25%</th>\n",
       "      <td>-0.000593</td>\n",
       "    </tr>\n",
       "    <tr>\n",
       "      <th>50%</th>\n",
       "      <td>0.000793</td>\n",
       "    </tr>\n",
       "    <tr>\n",
       "      <th>75%</th>\n",
       "      <td>0.052977</td>\n",
       "    </tr>\n",
       "    <tr>\n",
       "      <th>max</th>\n",
       "      <td>8.534852</td>\n",
       "    </tr>\n",
       "  </tbody>\n",
       "</table>\n",
       "</div>"
      ],
      "text/plain": [
       "                0\n",
       "count  785.000000\n",
       "mean     0.372999\n",
       "std      1.000638\n",
       "min     -0.001893\n",
       "25%     -0.000593\n",
       "50%      0.000793\n",
       "75%      0.052977\n",
       "max      8.534852"
      ]
     },
     "execution_count": 206,
     "metadata": {},
     "output_type": "execute_result"
    }
   ],
   "source": [
    "import pandas as pd\n",
    "\n",
    "numbers = [p.data for p in model.layers[0].neurons[0].parameters()]\n",
    "numbers.sort()\n",
    "\n",
    "pd.DataFrame(numbers).describe()"
   ]
  }
 ],
 "metadata": {
  "kernelspec": {
   "display_name": "Python 3",
   "language": "python",
   "name": "python3"
  },
  "language_info": {
   "codemirror_mode": {
    "name": "ipython",
    "version": 3
   },
   "file_extension": ".py",
   "mimetype": "text/x-python",
   "name": "python",
   "nbconvert_exporter": "python",
   "pygments_lexer": "ipython3",
   "version": "3.11.0"
  }
 },
 "nbformat": 4,
 "nbformat_minor": 2
}
